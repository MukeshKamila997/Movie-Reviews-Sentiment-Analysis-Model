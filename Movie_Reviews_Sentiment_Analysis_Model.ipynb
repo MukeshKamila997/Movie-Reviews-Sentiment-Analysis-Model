{
  "nbformat": 4,
  "nbformat_minor": 0,
  "metadata": {
    "colab": {
      "provenance": []
    },
    "kernelspec": {
      "name": "python3",
      "display_name": "Python 3"
    },
    "language_info": {
      "name": "python"
    }
  },
  "cells": [
    {
      "cell_type": "markdown",
      "source": [
        "#**PROJECT NAME** : **Sentiment Analysis of Movie Reviews**"
      ],
      "metadata": {
        "id": "7Rz_LdaEVaaW"
      }
    },
    {
      "cell_type": "markdown",
      "source": [
        "* In this project, the goal is to examine the reviews of the movie to see the overall sentiment the audience has for the movie. Then, will train different Machine learning models to predict if the review is positive or negative based on the text data provided in the dataset."
      ],
      "metadata": {
        "id": "1y2tWsOpl6yp"
      }
    },
    {
      "cell_type": "markdown",
      "source": [
        "## Import Libraries"
      ],
      "metadata": {
        "id": "D-o3x6NvT5sS"
      }
    },
    {
      "cell_type": "code",
      "execution_count": 22,
      "metadata": {
        "id": "negQyCTIlPJY",
        "colab": {
          "base_uri": "https://localhost:8080/"
        },
        "outputId": "05afa130-7419-4267-9c85-d7ae22d96f1e"
      },
      "outputs": [
        {
          "output_type": "stream",
          "name": "stdout",
          "text": [
            "Requirement already satisfied: catboost in /usr/local/lib/python3.10/dist-packages (1.2.2)\n",
            "Requirement already satisfied: graphviz in /usr/local/lib/python3.10/dist-packages (from catboost) (0.20.1)\n",
            "Requirement already satisfied: matplotlib in /usr/local/lib/python3.10/dist-packages (from catboost) (3.7.1)\n",
            "Requirement already satisfied: numpy>=1.16.0 in /usr/local/lib/python3.10/dist-packages (from catboost) (1.25.2)\n",
            "Requirement already satisfied: pandas>=0.24 in /usr/local/lib/python3.10/dist-packages (from catboost) (1.5.3)\n",
            "Requirement already satisfied: scipy in /usr/local/lib/python3.10/dist-packages (from catboost) (1.11.4)\n",
            "Requirement already satisfied: plotly in /usr/local/lib/python3.10/dist-packages (from catboost) (5.15.0)\n",
            "Requirement already satisfied: six in /usr/local/lib/python3.10/dist-packages (from catboost) (1.16.0)\n",
            "Requirement already satisfied: python-dateutil>=2.8.1 in /usr/local/lib/python3.10/dist-packages (from pandas>=0.24->catboost) (2.8.2)\n",
            "Requirement already satisfied: pytz>=2020.1 in /usr/local/lib/python3.10/dist-packages (from pandas>=0.24->catboost) (2023.4)\n",
            "Requirement already satisfied: contourpy>=1.0.1 in /usr/local/lib/python3.10/dist-packages (from matplotlib->catboost) (1.2.0)\n",
            "Requirement already satisfied: cycler>=0.10 in /usr/local/lib/python3.10/dist-packages (from matplotlib->catboost) (0.12.1)\n",
            "Requirement already satisfied: fonttools>=4.22.0 in /usr/local/lib/python3.10/dist-packages (from matplotlib->catboost) (4.48.1)\n",
            "Requirement already satisfied: kiwisolver>=1.0.1 in /usr/local/lib/python3.10/dist-packages (from matplotlib->catboost) (1.4.5)\n",
            "Requirement already satisfied: packaging>=20.0 in /usr/local/lib/python3.10/dist-packages (from matplotlib->catboost) (23.2)\n",
            "Requirement already satisfied: pillow>=6.2.0 in /usr/local/lib/python3.10/dist-packages (from matplotlib->catboost) (9.4.0)\n",
            "Requirement already satisfied: pyparsing>=2.3.1 in /usr/local/lib/python3.10/dist-packages (from matplotlib->catboost) (3.1.1)\n",
            "Requirement already satisfied: tenacity>=6.2.0 in /usr/local/lib/python3.10/dist-packages (from plotly->catboost) (8.2.3)\n"
          ]
        }
      ],
      "source": [
        "import numpy as np\n",
        "import pandas as pd\n",
        "import matplotlib.pyplot as plt\n",
        "import seaborn as sns\n",
        "%matplotlib inline\n",
        "import string\n",
        "import re\n",
        "import nltk\n",
        "import spacy\n",
        "sns.set_style('darkgrid')\n",
        "\n",
        "from textblob import TextBlob\n",
        "from nltk.corpus import stopwords\n",
        "from nltk.stem import PorterStemmer, LancasterStemmer, SnowballStemmer\n",
        "from nltk.stem import WordNetLemmatizer\n",
        "from nltk.tokenize import sent_tokenize, word_tokenize\n",
        "from nltk.tokenize.toktok import ToktokTokenizer\n",
        "\n",
        "from sklearn.model_selection import train_test_split\n",
        "from sklearn.preprocessing import LabelEncoder, LabelBinarizer\n",
        "from sklearn.feature_extraction.text import TfidfVectorizer, CountVectorizer\n",
        "from sklearn.metrics import accuracy_score, recall_score, f1_score, precision_score, confusion_matrix, classification_report\n",
        "\n",
        "from sklearn.linear_model import LogisticRegression, SGDClassifier\n",
        "from sklearn.naive_bayes import MultinomialNB\n",
        "from sklearn.neural_network import MLPClassifier\n",
        "from sklearn.tree import DecisionTreeClassifier\n",
        "from sklearn.ensemble import RandomForestClassifier\n",
        "from sklearn.neighbors import KNeighborsClassifier\n",
        "from sklearn.svm import SVC\n",
        "\n",
        "from lightgbm import LGBMClassifier\n",
        "from xgboost import XGBClassifier\n",
        "!pip install catboost\n",
        "from catboost import CatBoostClassifier\n",
        "\n",
        "import warnings\n",
        "warnings.filterwarnings('ignore')"
      ]
    },
    {
      "cell_type": "markdown",
      "source": [
        "##Loading Dataset"
      ],
      "metadata": {
        "id": "8v00XDCxUVKh"
      }
    },
    {
      "cell_type": "code",
      "source": [
        "dataframe = pd.read_csv('/content/drive/MyDrive/CodeClause/Project 1/movie_reviews.csv.zip')"
      ],
      "metadata": {
        "id": "_mDMODIWUa8n"
      },
      "execution_count": 23,
      "outputs": []
    },
    {
      "cell_type": "markdown",
      "source": [
        "## Understanding the Data / Data Inspection / Data Exploration"
      ],
      "metadata": {
        "id": "TS0PEIaeaHKe"
      }
    },
    {
      "cell_type": "code",
      "source": [
        "dataframe.shape"
      ],
      "metadata": {
        "colab": {
          "base_uri": "https://localhost:8080/"
        },
        "id": "8Eu8vjg03r3t",
        "outputId": "4249f3c7-06ed-4329-d3aa-dc610cd7f02f"
      },
      "execution_count": 24,
      "outputs": [
        {
          "output_type": "execute_result",
          "data": {
            "text/plain": [
              "(50000, 2)"
            ]
          },
          "metadata": {},
          "execution_count": 24
        }
      ]
    },
    {
      "cell_type": "markdown",
      "source": [
        "* This dataset is quite big let's analyze only first 10000 movie reviews."
      ],
      "metadata": {
        "id": "QPaC4oDq3xCc"
      }
    },
    {
      "cell_type": "code",
      "source": [
        "# Let's take only first 10000 movie reviews\n",
        "df = dataframe.iloc[:10000]                  # df = dataframe.head(10000)"
      ],
      "metadata": {
        "id": "M8FCJQjo4R8r"
      },
      "execution_count": 68,
      "outputs": []
    },
    {
      "cell_type": "code",
      "source": [
        "df.head()"
      ],
      "metadata": {
        "colab": {
          "base_uri": "https://localhost:8080/",
          "height": 206
        },
        "id": "-T933Y1p45jc",
        "outputId": "5efb3a41-2532-4516-ecc3-84e67810d781"
      },
      "execution_count": 69,
      "outputs": [
        {
          "output_type": "execute_result",
          "data": {
            "text/plain": [
              "                                              review sentiment\n",
              "0  One of the other reviewers has mentioned that ...  positive\n",
              "1  A wonderful little production. <br /><br />The...  positive\n",
              "2  I thought this was a wonderful way to spend ti...  positive\n",
              "3  Basically there's a family where a little boy ...  negative\n",
              "4  Petter Mattei's \"Love in the Time of Money\" is...  positive"
            ],
            "text/html": [
              "\n",
              "  <div id=\"df-038be235-76e2-4e57-a3d9-15c8aaad51ef\" class=\"colab-df-container\">\n",
              "    <div>\n",
              "<style scoped>\n",
              "    .dataframe tbody tr th:only-of-type {\n",
              "        vertical-align: middle;\n",
              "    }\n",
              "\n",
              "    .dataframe tbody tr th {\n",
              "        vertical-align: top;\n",
              "    }\n",
              "\n",
              "    .dataframe thead th {\n",
              "        text-align: right;\n",
              "    }\n",
              "</style>\n",
              "<table border=\"1\" class=\"dataframe\">\n",
              "  <thead>\n",
              "    <tr style=\"text-align: right;\">\n",
              "      <th></th>\n",
              "      <th>review</th>\n",
              "      <th>sentiment</th>\n",
              "    </tr>\n",
              "  </thead>\n",
              "  <tbody>\n",
              "    <tr>\n",
              "      <th>0</th>\n",
              "      <td>One of the other reviewers has mentioned that ...</td>\n",
              "      <td>positive</td>\n",
              "    </tr>\n",
              "    <tr>\n",
              "      <th>1</th>\n",
              "      <td>A wonderful little production. &lt;br /&gt;&lt;br /&gt;The...</td>\n",
              "      <td>positive</td>\n",
              "    </tr>\n",
              "    <tr>\n",
              "      <th>2</th>\n",
              "      <td>I thought this was a wonderful way to spend ti...</td>\n",
              "      <td>positive</td>\n",
              "    </tr>\n",
              "    <tr>\n",
              "      <th>3</th>\n",
              "      <td>Basically there's a family where a little boy ...</td>\n",
              "      <td>negative</td>\n",
              "    </tr>\n",
              "    <tr>\n",
              "      <th>4</th>\n",
              "      <td>Petter Mattei's \"Love in the Time of Money\" is...</td>\n",
              "      <td>positive</td>\n",
              "    </tr>\n",
              "  </tbody>\n",
              "</table>\n",
              "</div>\n",
              "    <div class=\"colab-df-buttons\">\n",
              "\n",
              "  <div class=\"colab-df-container\">\n",
              "    <button class=\"colab-df-convert\" onclick=\"convertToInteractive('df-038be235-76e2-4e57-a3d9-15c8aaad51ef')\"\n",
              "            title=\"Convert this dataframe to an interactive table.\"\n",
              "            style=\"display:none;\">\n",
              "\n",
              "  <svg xmlns=\"http://www.w3.org/2000/svg\" height=\"24px\" viewBox=\"0 -960 960 960\">\n",
              "    <path d=\"M120-120v-720h720v720H120Zm60-500h600v-160H180v160Zm220 220h160v-160H400v160Zm0 220h160v-160H400v160ZM180-400h160v-160H180v160Zm440 0h160v-160H620v160ZM180-180h160v-160H180v160Zm440 0h160v-160H620v160Z\"/>\n",
              "  </svg>\n",
              "    </button>\n",
              "\n",
              "  <style>\n",
              "    .colab-df-container {\n",
              "      display:flex;\n",
              "      gap: 12px;\n",
              "    }\n",
              "\n",
              "    .colab-df-convert {\n",
              "      background-color: #E8F0FE;\n",
              "      border: none;\n",
              "      border-radius: 50%;\n",
              "      cursor: pointer;\n",
              "      display: none;\n",
              "      fill: #1967D2;\n",
              "      height: 32px;\n",
              "      padding: 0 0 0 0;\n",
              "      width: 32px;\n",
              "    }\n",
              "\n",
              "    .colab-df-convert:hover {\n",
              "      background-color: #E2EBFA;\n",
              "      box-shadow: 0px 1px 2px rgba(60, 64, 67, 0.3), 0px 1px 3px 1px rgba(60, 64, 67, 0.15);\n",
              "      fill: #174EA6;\n",
              "    }\n",
              "\n",
              "    .colab-df-buttons div {\n",
              "      margin-bottom: 4px;\n",
              "    }\n",
              "\n",
              "    [theme=dark] .colab-df-convert {\n",
              "      background-color: #3B4455;\n",
              "      fill: #D2E3FC;\n",
              "    }\n",
              "\n",
              "    [theme=dark] .colab-df-convert:hover {\n",
              "      background-color: #434B5C;\n",
              "      box-shadow: 0px 1px 3px 1px rgba(0, 0, 0, 0.15);\n",
              "      filter: drop-shadow(0px 1px 2px rgba(0, 0, 0, 0.3));\n",
              "      fill: #FFFFFF;\n",
              "    }\n",
              "  </style>\n",
              "\n",
              "    <script>\n",
              "      const buttonEl =\n",
              "        document.querySelector('#df-038be235-76e2-4e57-a3d9-15c8aaad51ef button.colab-df-convert');\n",
              "      buttonEl.style.display =\n",
              "        google.colab.kernel.accessAllowed ? 'block' : 'none';\n",
              "\n",
              "      async function convertToInteractive(key) {\n",
              "        const element = document.querySelector('#df-038be235-76e2-4e57-a3d9-15c8aaad51ef');\n",
              "        const dataTable =\n",
              "          await google.colab.kernel.invokeFunction('convertToInteractive',\n",
              "                                                    [key], {});\n",
              "        if (!dataTable) return;\n",
              "\n",
              "        const docLinkHtml = 'Like what you see? Visit the ' +\n",
              "          '<a target=\"_blank\" href=https://colab.research.google.com/notebooks/data_table.ipynb>data table notebook</a>'\n",
              "          + ' to learn more about interactive tables.';\n",
              "        element.innerHTML = '';\n",
              "        dataTable['output_type'] = 'display_data';\n",
              "        await google.colab.output.renderOutput(dataTable, element);\n",
              "        const docLink = document.createElement('div');\n",
              "        docLink.innerHTML = docLinkHtml;\n",
              "        element.appendChild(docLink);\n",
              "      }\n",
              "    </script>\n",
              "  </div>\n",
              "\n",
              "\n",
              "<div id=\"df-444505ba-22fd-4196-a1ce-bec2317bc701\">\n",
              "  <button class=\"colab-df-quickchart\" onclick=\"quickchart('df-444505ba-22fd-4196-a1ce-bec2317bc701')\"\n",
              "            title=\"Suggest charts\"\n",
              "            style=\"display:none;\">\n",
              "\n",
              "<svg xmlns=\"http://www.w3.org/2000/svg\" height=\"24px\"viewBox=\"0 0 24 24\"\n",
              "     width=\"24px\">\n",
              "    <g>\n",
              "        <path d=\"M19 3H5c-1.1 0-2 .9-2 2v14c0 1.1.9 2 2 2h14c1.1 0 2-.9 2-2V5c0-1.1-.9-2-2-2zM9 17H7v-7h2v7zm4 0h-2V7h2v10zm4 0h-2v-4h2v4z\"/>\n",
              "    </g>\n",
              "</svg>\n",
              "  </button>\n",
              "\n",
              "<style>\n",
              "  .colab-df-quickchart {\n",
              "      --bg-color: #E8F0FE;\n",
              "      --fill-color: #1967D2;\n",
              "      --hover-bg-color: #E2EBFA;\n",
              "      --hover-fill-color: #174EA6;\n",
              "      --disabled-fill-color: #AAA;\n",
              "      --disabled-bg-color: #DDD;\n",
              "  }\n",
              "\n",
              "  [theme=dark] .colab-df-quickchart {\n",
              "      --bg-color: #3B4455;\n",
              "      --fill-color: #D2E3FC;\n",
              "      --hover-bg-color: #434B5C;\n",
              "      --hover-fill-color: #FFFFFF;\n",
              "      --disabled-bg-color: #3B4455;\n",
              "      --disabled-fill-color: #666;\n",
              "  }\n",
              "\n",
              "  .colab-df-quickchart {\n",
              "    background-color: var(--bg-color);\n",
              "    border: none;\n",
              "    border-radius: 50%;\n",
              "    cursor: pointer;\n",
              "    display: none;\n",
              "    fill: var(--fill-color);\n",
              "    height: 32px;\n",
              "    padding: 0;\n",
              "    width: 32px;\n",
              "  }\n",
              "\n",
              "  .colab-df-quickchart:hover {\n",
              "    background-color: var(--hover-bg-color);\n",
              "    box-shadow: 0 1px 2px rgba(60, 64, 67, 0.3), 0 1px 3px 1px rgba(60, 64, 67, 0.15);\n",
              "    fill: var(--button-hover-fill-color);\n",
              "  }\n",
              "\n",
              "  .colab-df-quickchart-complete:disabled,\n",
              "  .colab-df-quickchart-complete:disabled:hover {\n",
              "    background-color: var(--disabled-bg-color);\n",
              "    fill: var(--disabled-fill-color);\n",
              "    box-shadow: none;\n",
              "  }\n",
              "\n",
              "  .colab-df-spinner {\n",
              "    border: 2px solid var(--fill-color);\n",
              "    border-color: transparent;\n",
              "    border-bottom-color: var(--fill-color);\n",
              "    animation:\n",
              "      spin 1s steps(1) infinite;\n",
              "  }\n",
              "\n",
              "  @keyframes spin {\n",
              "    0% {\n",
              "      border-color: transparent;\n",
              "      border-bottom-color: var(--fill-color);\n",
              "      border-left-color: var(--fill-color);\n",
              "    }\n",
              "    20% {\n",
              "      border-color: transparent;\n",
              "      border-left-color: var(--fill-color);\n",
              "      border-top-color: var(--fill-color);\n",
              "    }\n",
              "    30% {\n",
              "      border-color: transparent;\n",
              "      border-left-color: var(--fill-color);\n",
              "      border-top-color: var(--fill-color);\n",
              "      border-right-color: var(--fill-color);\n",
              "    }\n",
              "    40% {\n",
              "      border-color: transparent;\n",
              "      border-right-color: var(--fill-color);\n",
              "      border-top-color: var(--fill-color);\n",
              "    }\n",
              "    60% {\n",
              "      border-color: transparent;\n",
              "      border-right-color: var(--fill-color);\n",
              "    }\n",
              "    80% {\n",
              "      border-color: transparent;\n",
              "      border-right-color: var(--fill-color);\n",
              "      border-bottom-color: var(--fill-color);\n",
              "    }\n",
              "    90% {\n",
              "      border-color: transparent;\n",
              "      border-bottom-color: var(--fill-color);\n",
              "    }\n",
              "  }\n",
              "</style>\n",
              "\n",
              "  <script>\n",
              "    async function quickchart(key) {\n",
              "      const quickchartButtonEl =\n",
              "        document.querySelector('#' + key + ' button');\n",
              "      quickchartButtonEl.disabled = true;  // To prevent multiple clicks.\n",
              "      quickchartButtonEl.classList.add('colab-df-spinner');\n",
              "      try {\n",
              "        const charts = await google.colab.kernel.invokeFunction(\n",
              "            'suggestCharts', [key], {});\n",
              "      } catch (error) {\n",
              "        console.error('Error during call to suggestCharts:', error);\n",
              "      }\n",
              "      quickchartButtonEl.classList.remove('colab-df-spinner');\n",
              "      quickchartButtonEl.classList.add('colab-df-quickchart-complete');\n",
              "    }\n",
              "    (() => {\n",
              "      let quickchartButtonEl =\n",
              "        document.querySelector('#df-444505ba-22fd-4196-a1ce-bec2317bc701 button');\n",
              "      quickchartButtonEl.style.display =\n",
              "        google.colab.kernel.accessAllowed ? 'block' : 'none';\n",
              "    })();\n",
              "  </script>\n",
              "</div>\n",
              "\n",
              "    </div>\n",
              "  </div>\n"
            ],
            "application/vnd.google.colaboratory.intrinsic+json": {
              "type": "dataframe",
              "variable_name": "df",
              "summary": "{\n  \"name\": \"df\",\n  \"rows\": 10000,\n  \"fields\": [\n    {\n      \"column\": \"review\",\n      \"properties\": {\n        \"dtype\": \"string\",\n        \"samples\": [\n          \"Good grief! While I still maintain that Manos: The Hands of Fate is the worst piece of mental torture available, Hobgoblins came awfully close. This...this...thing insults the audience at every opportunity.<br /><br />At least films like Space Mutiny and Future War can be enjoyed on mst3k, this one was a struggle to get through. I was literally writhing on the couch in anguish. This thing managed to embarrass me - alone!<br /><br />Even if you are a die-hard MST3K fan and have made it your mission to see every single experiment, think twice about seeing this one.<br /><br />It's that bad.\",\n          \"I thought \\\"Intensive Care\\\" was quite bad and very unintentionally funny. But at least not as bad as I thought it might be. Sometimes it's somewhat suspenseful, but never a good shocker.<br /><br />SPOILER AHEAD<br /><br />The fun lies in ridiculous moments. But the all-time classic moment is this: Peter (Koen Wauters) is stabbed and beaten by the killer. He lies moaning in the corner of the hallway. Amy (Nada van Nie) kneels beside him and asks \\\"Poor Peter, shall I get you a band-aid?\\\".<br /><br />This movie was shot in Dutch and English. To spare costs, all license plates are USA, and the background in the news studio is a skyline of Manhattan. Very funny if you're Dutch and watching the original version in Dutch.\",\n          \"Wonderful film that mixes documentary and fiction in a way that makes the spectator question: what is the extent of truth in documentary films or is there such a thing as an objective documentary.\"\n        ],\n        \"num_unique_values\": 9983,\n        \"semantic_type\": \"\",\n        \"description\": \"\"\n      }\n    },\n    {\n      \"column\": \"sentiment\",\n      \"properties\": {\n        \"dtype\": \"category\",\n        \"samples\": [\n          \"negative\",\n          \"positive\"\n        ],\n        \"num_unique_values\": 2,\n        \"semantic_type\": \"\",\n        \"description\": \"\"\n      }\n    }\n  ]\n}"
            }
          },
          "metadata": {},
          "execution_count": 69
        }
      ]
    },
    {
      "cell_type": "code",
      "source": [
        "print(f'No. of Columns: {df.shape[1]}')\n",
        "print(f'No. of Rows: {df.shape[0]}')\n",
        "df.shape"
      ],
      "metadata": {
        "colab": {
          "base_uri": "https://localhost:8080/"
        },
        "id": "43rw8EUe6TOb",
        "outputId": "42ad525b-c03a-45f6-811d-17a4d7fb7b27"
      },
      "execution_count": 70,
      "outputs": [
        {
          "output_type": "stream",
          "name": "stdout",
          "text": [
            "No. of Columns: 2\n",
            "No. of Rows: 10000\n"
          ]
        },
        {
          "output_type": "execute_result",
          "data": {
            "text/plain": [
              "(10000, 2)"
            ]
          },
          "metadata": {},
          "execution_count": 70
        }
      ]
    },
    {
      "cell_type": "code",
      "source": [
        "df.columns"
      ],
      "metadata": {
        "colab": {
          "base_uri": "https://localhost:8080/"
        },
        "id": "org4-KIqFc-D",
        "outputId": "ab632175-dc5c-44a6-ad73-fecc09455781"
      },
      "execution_count": 71,
      "outputs": [
        {
          "output_type": "execute_result",
          "data": {
            "text/plain": [
              "Index(['review', 'sentiment'], dtype='object')"
            ]
          },
          "metadata": {},
          "execution_count": 71
        }
      ]
    },
    {
      "cell_type": "code",
      "source": [
        "df.info()"
      ],
      "metadata": {
        "colab": {
          "base_uri": "https://localhost:8080/"
        },
        "id": "XePlSI1uFjH3",
        "outputId": "b52bc798-e109-4b43-b5d6-747f9fc0277d"
      },
      "execution_count": 72,
      "outputs": [
        {
          "output_type": "stream",
          "name": "stdout",
          "text": [
            "<class 'pandas.core.frame.DataFrame'>\n",
            "RangeIndex: 10000 entries, 0 to 9999\n",
            "Data columns (total 2 columns):\n",
            " #   Column     Non-Null Count  Dtype \n",
            "---  ------     --------------  ----- \n",
            " 0   review     10000 non-null  object\n",
            " 1   sentiment  10000 non-null  object\n",
            "dtypes: object(2)\n",
            "memory usage: 156.4+ KB\n"
          ]
        }
      ]
    },
    {
      "cell_type": "code",
      "source": [
        "# Descriptive Analysis\n",
        "df.describe()"
      ],
      "metadata": {
        "colab": {
          "base_uri": "https://localhost:8080/",
          "height": 174
        },
        "id": "EI75V3W8FplL",
        "outputId": "33cad5e6-3dd6-420e-e8a1-35918b18e5be"
      },
      "execution_count": 73,
      "outputs": [
        {
          "output_type": "execute_result",
          "data": {
            "text/plain": [
              "                                                   review sentiment\n",
              "count                                               10000     10000\n",
              "unique                                               9983         2\n",
              "top     Beautiful film, pure Cassavetes style. Gena Ro...  positive\n",
              "freq                                                    2      5028"
            ],
            "text/html": [
              "\n",
              "  <div id=\"df-bfa774c8-1dec-4dcb-aec5-550b9807c9f4\" class=\"colab-df-container\">\n",
              "    <div>\n",
              "<style scoped>\n",
              "    .dataframe tbody tr th:only-of-type {\n",
              "        vertical-align: middle;\n",
              "    }\n",
              "\n",
              "    .dataframe tbody tr th {\n",
              "        vertical-align: top;\n",
              "    }\n",
              "\n",
              "    .dataframe thead th {\n",
              "        text-align: right;\n",
              "    }\n",
              "</style>\n",
              "<table border=\"1\" class=\"dataframe\">\n",
              "  <thead>\n",
              "    <tr style=\"text-align: right;\">\n",
              "      <th></th>\n",
              "      <th>review</th>\n",
              "      <th>sentiment</th>\n",
              "    </tr>\n",
              "  </thead>\n",
              "  <tbody>\n",
              "    <tr>\n",
              "      <th>count</th>\n",
              "      <td>10000</td>\n",
              "      <td>10000</td>\n",
              "    </tr>\n",
              "    <tr>\n",
              "      <th>unique</th>\n",
              "      <td>9983</td>\n",
              "      <td>2</td>\n",
              "    </tr>\n",
              "    <tr>\n",
              "      <th>top</th>\n",
              "      <td>Beautiful film, pure Cassavetes style. Gena Ro...</td>\n",
              "      <td>positive</td>\n",
              "    </tr>\n",
              "    <tr>\n",
              "      <th>freq</th>\n",
              "      <td>2</td>\n",
              "      <td>5028</td>\n",
              "    </tr>\n",
              "  </tbody>\n",
              "</table>\n",
              "</div>\n",
              "    <div class=\"colab-df-buttons\">\n",
              "\n",
              "  <div class=\"colab-df-container\">\n",
              "    <button class=\"colab-df-convert\" onclick=\"convertToInteractive('df-bfa774c8-1dec-4dcb-aec5-550b9807c9f4')\"\n",
              "            title=\"Convert this dataframe to an interactive table.\"\n",
              "            style=\"display:none;\">\n",
              "\n",
              "  <svg xmlns=\"http://www.w3.org/2000/svg\" height=\"24px\" viewBox=\"0 -960 960 960\">\n",
              "    <path d=\"M120-120v-720h720v720H120Zm60-500h600v-160H180v160Zm220 220h160v-160H400v160Zm0 220h160v-160H400v160ZM180-400h160v-160H180v160Zm440 0h160v-160H620v160ZM180-180h160v-160H180v160Zm440 0h160v-160H620v160Z\"/>\n",
              "  </svg>\n",
              "    </button>\n",
              "\n",
              "  <style>\n",
              "    .colab-df-container {\n",
              "      display:flex;\n",
              "      gap: 12px;\n",
              "    }\n",
              "\n",
              "    .colab-df-convert {\n",
              "      background-color: #E8F0FE;\n",
              "      border: none;\n",
              "      border-radius: 50%;\n",
              "      cursor: pointer;\n",
              "      display: none;\n",
              "      fill: #1967D2;\n",
              "      height: 32px;\n",
              "      padding: 0 0 0 0;\n",
              "      width: 32px;\n",
              "    }\n",
              "\n",
              "    .colab-df-convert:hover {\n",
              "      background-color: #E2EBFA;\n",
              "      box-shadow: 0px 1px 2px rgba(60, 64, 67, 0.3), 0px 1px 3px 1px rgba(60, 64, 67, 0.15);\n",
              "      fill: #174EA6;\n",
              "    }\n",
              "\n",
              "    .colab-df-buttons div {\n",
              "      margin-bottom: 4px;\n",
              "    }\n",
              "\n",
              "    [theme=dark] .colab-df-convert {\n",
              "      background-color: #3B4455;\n",
              "      fill: #D2E3FC;\n",
              "    }\n",
              "\n",
              "    [theme=dark] .colab-df-convert:hover {\n",
              "      background-color: #434B5C;\n",
              "      box-shadow: 0px 1px 3px 1px rgba(0, 0, 0, 0.15);\n",
              "      filter: drop-shadow(0px 1px 2px rgba(0, 0, 0, 0.3));\n",
              "      fill: #FFFFFF;\n",
              "    }\n",
              "  </style>\n",
              "\n",
              "    <script>\n",
              "      const buttonEl =\n",
              "        document.querySelector('#df-bfa774c8-1dec-4dcb-aec5-550b9807c9f4 button.colab-df-convert');\n",
              "      buttonEl.style.display =\n",
              "        google.colab.kernel.accessAllowed ? 'block' : 'none';\n",
              "\n",
              "      async function convertToInteractive(key) {\n",
              "        const element = document.querySelector('#df-bfa774c8-1dec-4dcb-aec5-550b9807c9f4');\n",
              "        const dataTable =\n",
              "          await google.colab.kernel.invokeFunction('convertToInteractive',\n",
              "                                                    [key], {});\n",
              "        if (!dataTable) return;\n",
              "\n",
              "        const docLinkHtml = 'Like what you see? Visit the ' +\n",
              "          '<a target=\"_blank\" href=https://colab.research.google.com/notebooks/data_table.ipynb>data table notebook</a>'\n",
              "          + ' to learn more about interactive tables.';\n",
              "        element.innerHTML = '';\n",
              "        dataTable['output_type'] = 'display_data';\n",
              "        await google.colab.output.renderOutput(dataTable, element);\n",
              "        const docLink = document.createElement('div');\n",
              "        docLink.innerHTML = docLinkHtml;\n",
              "        element.appendChild(docLink);\n",
              "      }\n",
              "    </script>\n",
              "  </div>\n",
              "\n",
              "\n",
              "<div id=\"df-92f982df-7b90-490a-a7ca-3d4ab5be5307\">\n",
              "  <button class=\"colab-df-quickchart\" onclick=\"quickchart('df-92f982df-7b90-490a-a7ca-3d4ab5be5307')\"\n",
              "            title=\"Suggest charts\"\n",
              "            style=\"display:none;\">\n",
              "\n",
              "<svg xmlns=\"http://www.w3.org/2000/svg\" height=\"24px\"viewBox=\"0 0 24 24\"\n",
              "     width=\"24px\">\n",
              "    <g>\n",
              "        <path d=\"M19 3H5c-1.1 0-2 .9-2 2v14c0 1.1.9 2 2 2h14c1.1 0 2-.9 2-2V5c0-1.1-.9-2-2-2zM9 17H7v-7h2v7zm4 0h-2V7h2v10zm4 0h-2v-4h2v4z\"/>\n",
              "    </g>\n",
              "</svg>\n",
              "  </button>\n",
              "\n",
              "<style>\n",
              "  .colab-df-quickchart {\n",
              "      --bg-color: #E8F0FE;\n",
              "      --fill-color: #1967D2;\n",
              "      --hover-bg-color: #E2EBFA;\n",
              "      --hover-fill-color: #174EA6;\n",
              "      --disabled-fill-color: #AAA;\n",
              "      --disabled-bg-color: #DDD;\n",
              "  }\n",
              "\n",
              "  [theme=dark] .colab-df-quickchart {\n",
              "      --bg-color: #3B4455;\n",
              "      --fill-color: #D2E3FC;\n",
              "      --hover-bg-color: #434B5C;\n",
              "      --hover-fill-color: #FFFFFF;\n",
              "      --disabled-bg-color: #3B4455;\n",
              "      --disabled-fill-color: #666;\n",
              "  }\n",
              "\n",
              "  .colab-df-quickchart {\n",
              "    background-color: var(--bg-color);\n",
              "    border: none;\n",
              "    border-radius: 50%;\n",
              "    cursor: pointer;\n",
              "    display: none;\n",
              "    fill: var(--fill-color);\n",
              "    height: 32px;\n",
              "    padding: 0;\n",
              "    width: 32px;\n",
              "  }\n",
              "\n",
              "  .colab-df-quickchart:hover {\n",
              "    background-color: var(--hover-bg-color);\n",
              "    box-shadow: 0 1px 2px rgba(60, 64, 67, 0.3), 0 1px 3px 1px rgba(60, 64, 67, 0.15);\n",
              "    fill: var(--button-hover-fill-color);\n",
              "  }\n",
              "\n",
              "  .colab-df-quickchart-complete:disabled,\n",
              "  .colab-df-quickchart-complete:disabled:hover {\n",
              "    background-color: var(--disabled-bg-color);\n",
              "    fill: var(--disabled-fill-color);\n",
              "    box-shadow: none;\n",
              "  }\n",
              "\n",
              "  .colab-df-spinner {\n",
              "    border: 2px solid var(--fill-color);\n",
              "    border-color: transparent;\n",
              "    border-bottom-color: var(--fill-color);\n",
              "    animation:\n",
              "      spin 1s steps(1) infinite;\n",
              "  }\n",
              "\n",
              "  @keyframes spin {\n",
              "    0% {\n",
              "      border-color: transparent;\n",
              "      border-bottom-color: var(--fill-color);\n",
              "      border-left-color: var(--fill-color);\n",
              "    }\n",
              "    20% {\n",
              "      border-color: transparent;\n",
              "      border-left-color: var(--fill-color);\n",
              "      border-top-color: var(--fill-color);\n",
              "    }\n",
              "    30% {\n",
              "      border-color: transparent;\n",
              "      border-left-color: var(--fill-color);\n",
              "      border-top-color: var(--fill-color);\n",
              "      border-right-color: var(--fill-color);\n",
              "    }\n",
              "    40% {\n",
              "      border-color: transparent;\n",
              "      border-right-color: var(--fill-color);\n",
              "      border-top-color: var(--fill-color);\n",
              "    }\n",
              "    60% {\n",
              "      border-color: transparent;\n",
              "      border-right-color: var(--fill-color);\n",
              "    }\n",
              "    80% {\n",
              "      border-color: transparent;\n",
              "      border-right-color: var(--fill-color);\n",
              "      border-bottom-color: var(--fill-color);\n",
              "    }\n",
              "    90% {\n",
              "      border-color: transparent;\n",
              "      border-bottom-color: var(--fill-color);\n",
              "    }\n",
              "  }\n",
              "</style>\n",
              "\n",
              "  <script>\n",
              "    async function quickchart(key) {\n",
              "      const quickchartButtonEl =\n",
              "        document.querySelector('#' + key + ' button');\n",
              "      quickchartButtonEl.disabled = true;  // To prevent multiple clicks.\n",
              "      quickchartButtonEl.classList.add('colab-df-spinner');\n",
              "      try {\n",
              "        const charts = await google.colab.kernel.invokeFunction(\n",
              "            'suggestCharts', [key], {});\n",
              "      } catch (error) {\n",
              "        console.error('Error during call to suggestCharts:', error);\n",
              "      }\n",
              "      quickchartButtonEl.classList.remove('colab-df-spinner');\n",
              "      quickchartButtonEl.classList.add('colab-df-quickchart-complete');\n",
              "    }\n",
              "    (() => {\n",
              "      let quickchartButtonEl =\n",
              "        document.querySelector('#df-92f982df-7b90-490a-a7ca-3d4ab5be5307 button');\n",
              "      quickchartButtonEl.style.display =\n",
              "        google.colab.kernel.accessAllowed ? 'block' : 'none';\n",
              "    })();\n",
              "  </script>\n",
              "</div>\n",
              "\n",
              "    </div>\n",
              "  </div>\n"
            ],
            "application/vnd.google.colaboratory.intrinsic+json": {
              "type": "dataframe",
              "summary": "{\n  \"name\": \"df\",\n  \"rows\": 4,\n  \"fields\": [\n    {\n      \"column\": \"review\",\n      \"properties\": {\n        \"dtype\": \"string\",\n        \"samples\": [\n          9983,\n          \"2\",\n          \"10000\"\n        ],\n        \"num_unique_values\": 4,\n        \"semantic_type\": \"\",\n        \"description\": \"\"\n      }\n    },\n    {\n      \"column\": \"sentiment\",\n      \"properties\": {\n        \"dtype\": \"string\",\n        \"samples\": [\n          2,\n          \"5028\",\n          \"10000\"\n        ],\n        \"num_unique_values\": 4,\n        \"semantic_type\": \"\",\n        \"description\": \"\"\n      }\n    }\n  ]\n}"
            }
          },
          "metadata": {},
          "execution_count": 73
        }
      ]
    },
    {
      "cell_type": "markdown",
      "source": [
        "## Data Cleaning"
      ],
      "metadata": {
        "id": "ivgZNnNBSqFK"
      }
    },
    {
      "cell_type": "code",
      "source": [
        "# Checking Null Values\n",
        "df.isna().sum()"
      ],
      "metadata": {
        "colab": {
          "base_uri": "https://localhost:8080/"
        },
        "id": "8jaqQVTAIVU9",
        "outputId": "fd0a880c-4378-4c38-9690-ba93a3c8d298"
      },
      "execution_count": 74,
      "outputs": [
        {
          "output_type": "execute_result",
          "data": {
            "text/plain": [
              "review       0\n",
              "sentiment    0\n",
              "dtype: int64"
            ]
          },
          "metadata": {},
          "execution_count": 74
        }
      ]
    },
    {
      "cell_type": "code",
      "source": [
        "# Checking Duplicates\n",
        "df.duplicated().sum()"
      ],
      "metadata": {
        "colab": {
          "base_uri": "https://localhost:8080/"
        },
        "id": "P4BySMb-Jx_a",
        "outputId": "0ba43ca0-e8a8-48ae-d708-48a23c01a185"
      },
      "execution_count": 75,
      "outputs": [
        {
          "output_type": "execute_result",
          "data": {
            "text/plain": [
              "17"
            ]
          },
          "metadata": {},
          "execution_count": 75
        }
      ]
    },
    {
      "cell_type": "code",
      "source": [
        "# Checking & Identifying Duplicates\n",
        "df[df.duplicated()]         # df[df.duplicated() == True]"
      ],
      "metadata": {
        "colab": {
          "base_uri": "https://localhost:8080/",
          "height": 582
        },
        "id": "-b9Va-NmL2bt",
        "outputId": "3530d126-04b5-41e1-fc79-c65e539803f0"
      },
      "execution_count": 76,
      "outputs": [
        {
          "output_type": "execute_result",
          "data": {
            "text/plain": [
              "                                                 review sentiment\n",
              "3537  Quite what the producers of this appalling ada...  negative\n",
              "3769  My favourite police series of all time turns t...  positive\n",
              "4391  Beautiful film, pure Cassavetes style. Gena Ro...  positive\n",
              "6352  If you liked the Grinch movie... go watch that...  negative\n",
              "6479  I want very much to believe that the above quo...  negative\n",
              "6672  Sigh. I'm baffled when I see a short like this...  negative\n",
              "7221  I have always been a huge fan of \"Homicide: Li...  positive\n",
              "7222  There are plenty of comments already posted sa...  negative\n",
              "7425  The movie was excellent, save for some of the ...  positive\n",
              "7555  This movie has made me upset! When I think of ...  negative\n",
              "8040  Contains spoilers. <br /><br />The British dir...  negative\n",
              "8801  Hilarious, clean, light-hearted, and quote-wor...  positive\n",
              "8868  Ik know it is impossible to keep all details o...  negative\n",
              "8874  From director Barbet Schroder (Reversal of For...  negative\n",
              "9057  So, I'm wondering while watching this film, di...  negative\n",
              "9503  This is one of those star-filled over-the-top ...  negative\n",
              "9522  I watched this movie when Joe Bob Briggs hoste...  negative"
            ],
            "text/html": [
              "\n",
              "  <div id=\"df-15f3cddd-84cf-4462-8461-b51e36e8f78d\" class=\"colab-df-container\">\n",
              "    <div>\n",
              "<style scoped>\n",
              "    .dataframe tbody tr th:only-of-type {\n",
              "        vertical-align: middle;\n",
              "    }\n",
              "\n",
              "    .dataframe tbody tr th {\n",
              "        vertical-align: top;\n",
              "    }\n",
              "\n",
              "    .dataframe thead th {\n",
              "        text-align: right;\n",
              "    }\n",
              "</style>\n",
              "<table border=\"1\" class=\"dataframe\">\n",
              "  <thead>\n",
              "    <tr style=\"text-align: right;\">\n",
              "      <th></th>\n",
              "      <th>review</th>\n",
              "      <th>sentiment</th>\n",
              "    </tr>\n",
              "  </thead>\n",
              "  <tbody>\n",
              "    <tr>\n",
              "      <th>3537</th>\n",
              "      <td>Quite what the producers of this appalling ada...</td>\n",
              "      <td>negative</td>\n",
              "    </tr>\n",
              "    <tr>\n",
              "      <th>3769</th>\n",
              "      <td>My favourite police series of all time turns t...</td>\n",
              "      <td>positive</td>\n",
              "    </tr>\n",
              "    <tr>\n",
              "      <th>4391</th>\n",
              "      <td>Beautiful film, pure Cassavetes style. Gena Ro...</td>\n",
              "      <td>positive</td>\n",
              "    </tr>\n",
              "    <tr>\n",
              "      <th>6352</th>\n",
              "      <td>If you liked the Grinch movie... go watch that...</td>\n",
              "      <td>negative</td>\n",
              "    </tr>\n",
              "    <tr>\n",
              "      <th>6479</th>\n",
              "      <td>I want very much to believe that the above quo...</td>\n",
              "      <td>negative</td>\n",
              "    </tr>\n",
              "    <tr>\n",
              "      <th>6672</th>\n",
              "      <td>Sigh. I'm baffled when I see a short like this...</td>\n",
              "      <td>negative</td>\n",
              "    </tr>\n",
              "    <tr>\n",
              "      <th>7221</th>\n",
              "      <td>I have always been a huge fan of \"Homicide: Li...</td>\n",
              "      <td>positive</td>\n",
              "    </tr>\n",
              "    <tr>\n",
              "      <th>7222</th>\n",
              "      <td>There are plenty of comments already posted sa...</td>\n",
              "      <td>negative</td>\n",
              "    </tr>\n",
              "    <tr>\n",
              "      <th>7425</th>\n",
              "      <td>The movie was excellent, save for some of the ...</td>\n",
              "      <td>positive</td>\n",
              "    </tr>\n",
              "    <tr>\n",
              "      <th>7555</th>\n",
              "      <td>This movie has made me upset! When I think of ...</td>\n",
              "      <td>negative</td>\n",
              "    </tr>\n",
              "    <tr>\n",
              "      <th>8040</th>\n",
              "      <td>Contains spoilers. &lt;br /&gt;&lt;br /&gt;The British dir...</td>\n",
              "      <td>negative</td>\n",
              "    </tr>\n",
              "    <tr>\n",
              "      <th>8801</th>\n",
              "      <td>Hilarious, clean, light-hearted, and quote-wor...</td>\n",
              "      <td>positive</td>\n",
              "    </tr>\n",
              "    <tr>\n",
              "      <th>8868</th>\n",
              "      <td>Ik know it is impossible to keep all details o...</td>\n",
              "      <td>negative</td>\n",
              "    </tr>\n",
              "    <tr>\n",
              "      <th>8874</th>\n",
              "      <td>From director Barbet Schroder (Reversal of For...</td>\n",
              "      <td>negative</td>\n",
              "    </tr>\n",
              "    <tr>\n",
              "      <th>9057</th>\n",
              "      <td>So, I'm wondering while watching this film, di...</td>\n",
              "      <td>negative</td>\n",
              "    </tr>\n",
              "    <tr>\n",
              "      <th>9503</th>\n",
              "      <td>This is one of those star-filled over-the-top ...</td>\n",
              "      <td>negative</td>\n",
              "    </tr>\n",
              "    <tr>\n",
              "      <th>9522</th>\n",
              "      <td>I watched this movie when Joe Bob Briggs hoste...</td>\n",
              "      <td>negative</td>\n",
              "    </tr>\n",
              "  </tbody>\n",
              "</table>\n",
              "</div>\n",
              "    <div class=\"colab-df-buttons\">\n",
              "\n",
              "  <div class=\"colab-df-container\">\n",
              "    <button class=\"colab-df-convert\" onclick=\"convertToInteractive('df-15f3cddd-84cf-4462-8461-b51e36e8f78d')\"\n",
              "            title=\"Convert this dataframe to an interactive table.\"\n",
              "            style=\"display:none;\">\n",
              "\n",
              "  <svg xmlns=\"http://www.w3.org/2000/svg\" height=\"24px\" viewBox=\"0 -960 960 960\">\n",
              "    <path d=\"M120-120v-720h720v720H120Zm60-500h600v-160H180v160Zm220 220h160v-160H400v160Zm0 220h160v-160H400v160ZM180-400h160v-160H180v160Zm440 0h160v-160H620v160ZM180-180h160v-160H180v160Zm440 0h160v-160H620v160Z\"/>\n",
              "  </svg>\n",
              "    </button>\n",
              "\n",
              "  <style>\n",
              "    .colab-df-container {\n",
              "      display:flex;\n",
              "      gap: 12px;\n",
              "    }\n",
              "\n",
              "    .colab-df-convert {\n",
              "      background-color: #E8F0FE;\n",
              "      border: none;\n",
              "      border-radius: 50%;\n",
              "      cursor: pointer;\n",
              "      display: none;\n",
              "      fill: #1967D2;\n",
              "      height: 32px;\n",
              "      padding: 0 0 0 0;\n",
              "      width: 32px;\n",
              "    }\n",
              "\n",
              "    .colab-df-convert:hover {\n",
              "      background-color: #E2EBFA;\n",
              "      box-shadow: 0px 1px 2px rgba(60, 64, 67, 0.3), 0px 1px 3px 1px rgba(60, 64, 67, 0.15);\n",
              "      fill: #174EA6;\n",
              "    }\n",
              "\n",
              "    .colab-df-buttons div {\n",
              "      margin-bottom: 4px;\n",
              "    }\n",
              "\n",
              "    [theme=dark] .colab-df-convert {\n",
              "      background-color: #3B4455;\n",
              "      fill: #D2E3FC;\n",
              "    }\n",
              "\n",
              "    [theme=dark] .colab-df-convert:hover {\n",
              "      background-color: #434B5C;\n",
              "      box-shadow: 0px 1px 3px 1px rgba(0, 0, 0, 0.15);\n",
              "      filter: drop-shadow(0px 1px 2px rgba(0, 0, 0, 0.3));\n",
              "      fill: #FFFFFF;\n",
              "    }\n",
              "  </style>\n",
              "\n",
              "    <script>\n",
              "      const buttonEl =\n",
              "        document.querySelector('#df-15f3cddd-84cf-4462-8461-b51e36e8f78d button.colab-df-convert');\n",
              "      buttonEl.style.display =\n",
              "        google.colab.kernel.accessAllowed ? 'block' : 'none';\n",
              "\n",
              "      async function convertToInteractive(key) {\n",
              "        const element = document.querySelector('#df-15f3cddd-84cf-4462-8461-b51e36e8f78d');\n",
              "        const dataTable =\n",
              "          await google.colab.kernel.invokeFunction('convertToInteractive',\n",
              "                                                    [key], {});\n",
              "        if (!dataTable) return;\n",
              "\n",
              "        const docLinkHtml = 'Like what you see? Visit the ' +\n",
              "          '<a target=\"_blank\" href=https://colab.research.google.com/notebooks/data_table.ipynb>data table notebook</a>'\n",
              "          + ' to learn more about interactive tables.';\n",
              "        element.innerHTML = '';\n",
              "        dataTable['output_type'] = 'display_data';\n",
              "        await google.colab.output.renderOutput(dataTable, element);\n",
              "        const docLink = document.createElement('div');\n",
              "        docLink.innerHTML = docLinkHtml;\n",
              "        element.appendChild(docLink);\n",
              "      }\n",
              "    </script>\n",
              "  </div>\n",
              "\n",
              "\n",
              "<div id=\"df-433ed4e1-97c7-4602-9e99-34b616c484a3\">\n",
              "  <button class=\"colab-df-quickchart\" onclick=\"quickchart('df-433ed4e1-97c7-4602-9e99-34b616c484a3')\"\n",
              "            title=\"Suggest charts\"\n",
              "            style=\"display:none;\">\n",
              "\n",
              "<svg xmlns=\"http://www.w3.org/2000/svg\" height=\"24px\"viewBox=\"0 0 24 24\"\n",
              "     width=\"24px\">\n",
              "    <g>\n",
              "        <path d=\"M19 3H5c-1.1 0-2 .9-2 2v14c0 1.1.9 2 2 2h14c1.1 0 2-.9 2-2V5c0-1.1-.9-2-2-2zM9 17H7v-7h2v7zm4 0h-2V7h2v10zm4 0h-2v-4h2v4z\"/>\n",
              "    </g>\n",
              "</svg>\n",
              "  </button>\n",
              "\n",
              "<style>\n",
              "  .colab-df-quickchart {\n",
              "      --bg-color: #E8F0FE;\n",
              "      --fill-color: #1967D2;\n",
              "      --hover-bg-color: #E2EBFA;\n",
              "      --hover-fill-color: #174EA6;\n",
              "      --disabled-fill-color: #AAA;\n",
              "      --disabled-bg-color: #DDD;\n",
              "  }\n",
              "\n",
              "  [theme=dark] .colab-df-quickchart {\n",
              "      --bg-color: #3B4455;\n",
              "      --fill-color: #D2E3FC;\n",
              "      --hover-bg-color: #434B5C;\n",
              "      --hover-fill-color: #FFFFFF;\n",
              "      --disabled-bg-color: #3B4455;\n",
              "      --disabled-fill-color: #666;\n",
              "  }\n",
              "\n",
              "  .colab-df-quickchart {\n",
              "    background-color: var(--bg-color);\n",
              "    border: none;\n",
              "    border-radius: 50%;\n",
              "    cursor: pointer;\n",
              "    display: none;\n",
              "    fill: var(--fill-color);\n",
              "    height: 32px;\n",
              "    padding: 0;\n",
              "    width: 32px;\n",
              "  }\n",
              "\n",
              "  .colab-df-quickchart:hover {\n",
              "    background-color: var(--hover-bg-color);\n",
              "    box-shadow: 0 1px 2px rgba(60, 64, 67, 0.3), 0 1px 3px 1px rgba(60, 64, 67, 0.15);\n",
              "    fill: var(--button-hover-fill-color);\n",
              "  }\n",
              "\n",
              "  .colab-df-quickchart-complete:disabled,\n",
              "  .colab-df-quickchart-complete:disabled:hover {\n",
              "    background-color: var(--disabled-bg-color);\n",
              "    fill: var(--disabled-fill-color);\n",
              "    box-shadow: none;\n",
              "  }\n",
              "\n",
              "  .colab-df-spinner {\n",
              "    border: 2px solid var(--fill-color);\n",
              "    border-color: transparent;\n",
              "    border-bottom-color: var(--fill-color);\n",
              "    animation:\n",
              "      spin 1s steps(1) infinite;\n",
              "  }\n",
              "\n",
              "  @keyframes spin {\n",
              "    0% {\n",
              "      border-color: transparent;\n",
              "      border-bottom-color: var(--fill-color);\n",
              "      border-left-color: var(--fill-color);\n",
              "    }\n",
              "    20% {\n",
              "      border-color: transparent;\n",
              "      border-left-color: var(--fill-color);\n",
              "      border-top-color: var(--fill-color);\n",
              "    }\n",
              "    30% {\n",
              "      border-color: transparent;\n",
              "      border-left-color: var(--fill-color);\n",
              "      border-top-color: var(--fill-color);\n",
              "      border-right-color: var(--fill-color);\n",
              "    }\n",
              "    40% {\n",
              "      border-color: transparent;\n",
              "      border-right-color: var(--fill-color);\n",
              "      border-top-color: var(--fill-color);\n",
              "    }\n",
              "    60% {\n",
              "      border-color: transparent;\n",
              "      border-right-color: var(--fill-color);\n",
              "    }\n",
              "    80% {\n",
              "      border-color: transparent;\n",
              "      border-right-color: var(--fill-color);\n",
              "      border-bottom-color: var(--fill-color);\n",
              "    }\n",
              "    90% {\n",
              "      border-color: transparent;\n",
              "      border-bottom-color: var(--fill-color);\n",
              "    }\n",
              "  }\n",
              "</style>\n",
              "\n",
              "  <script>\n",
              "    async function quickchart(key) {\n",
              "      const quickchartButtonEl =\n",
              "        document.querySelector('#' + key + ' button');\n",
              "      quickchartButtonEl.disabled = true;  // To prevent multiple clicks.\n",
              "      quickchartButtonEl.classList.add('colab-df-spinner');\n",
              "      try {\n",
              "        const charts = await google.colab.kernel.invokeFunction(\n",
              "            'suggestCharts', [key], {});\n",
              "      } catch (error) {\n",
              "        console.error('Error during call to suggestCharts:', error);\n",
              "      }\n",
              "      quickchartButtonEl.classList.remove('colab-df-spinner');\n",
              "      quickchartButtonEl.classList.add('colab-df-quickchart-complete');\n",
              "    }\n",
              "    (() => {\n",
              "      let quickchartButtonEl =\n",
              "        document.querySelector('#df-433ed4e1-97c7-4602-9e99-34b616c484a3 button');\n",
              "      quickchartButtonEl.style.display =\n",
              "        google.colab.kernel.accessAllowed ? 'block' : 'none';\n",
              "    })();\n",
              "  </script>\n",
              "</div>\n",
              "\n",
              "    </div>\n",
              "  </div>\n"
            ],
            "application/vnd.google.colaboratory.intrinsic+json": {
              "type": "dataframe",
              "summary": "{\n  \"name\": \"df[df\",\n  \"rows\": 17,\n  \"fields\": [\n    {\n      \"column\": \"review\",\n      \"properties\": {\n        \"dtype\": \"string\",\n        \"samples\": [\n          \"Quite what the producers of this appalling adaptation were trying to do is impossible to fathom.<br /><br />A group of top quality actors, in the main well cast (with a couple of notable exceptions), who give pretty good performances. Penelope Keith is perfect as Aunt Louise and equally good is Joanna Lumley as Diana. All do well with the scripts they were given.<br /><br />So much for the good. The average would include the sets. Nancherrow is nothing like the house described in the book, although bizarrely the house they use for the Dower House looks remarkably like it. It is clear then that the Dower House is far too big. In the later parts, the writers decided to bring the entire story back to the UK, presumably to save money, although with a little imagination I have no doubt they could have recreated Ceylon.<br /><br />Now to the bad. The screenplay. This is such an appallingly bad adaptation is hard to find words to condemn it. Edward does not die in the battle of Britain but survives, blinded. He makes a brief appearance then commits suicide - why?? Loveday has changed from the young woman totally in love with Gus to a sensible farmer's wife who can give up the love her life with barely a tear (less emotional than Brief Encounter). Gus, a man besotted and passionately in love, is prepared to give up his love without complaint. Walter (Mudge in the book) turns from a shallow unfaithful husband to a devoted family man. Jess is made into a psychologically disturbed young woman who won't speak. Aunt Biddy still has a drink problem but now without any justification. The Dower House is occupied by the army for no obvious reason other than a very short scene with Jess who has a fear of armed soldiers. Whilst Miss Mortimer's breasts are utterly delightful, I could not see how their display on several occasions moved the plot forward. The delightfully named Nettlebed becomes the mundane Dobson. The word limit prevents me from continuing the list.<br /><br />There is a sequel (which I lost all interest in watching after this nonsense) and I wonder if the changes were made to create the follow on story. It is difficult to image that Rosamunde Pilcher would have approved this grotesque perversion of her book; presumably she lost her control when the rights were purchased.\",\n          \"My favourite police series of all time turns to a TV-film. Does it work? Yes. Gee runs for mayor and gets shot. The Homicide \\\"hall of fame\\\" turns up. Pembleton and nearly all of the cops who ever played in this series. A lot of flashbacks helps you who hasn\\u00b4t seen the TV-series but it amuses the fans too. The last five minutes solves another murder and at the very end even two of the dead cops turn up. And a short appearance from my favourite coroner Juliana Cox. This is a good film.\",\n          \"Sigh. I'm baffled when I see a short like this get attention and assignments and whatnot. I saw this film at a festival before the filmmaker got any attention and forgot about it immediately afterwards. It was mildly annoying to see it swiping the Grinch Who Stole Christmas heart gag along with the narration, the set design seen many times before, the whole weak Tim Burton-ish style, and the story that goes nowhere. And we got the \\\"joke\\\" about shooting the crows with the 45 the first time, alright?<br /><br />But I guess what's really unacceptable is that it even swipes its basic concept from a comic book circa 1999 called LENORE, THE CUTE LITTLE DEAD GIRL by Roman Dirge! As any quick internet search will reveal. I mean, what is this? This is what they base a Hollywood contract on and opens doors in Canada for a filmmaker? \\\"Give your head a shake\\\" as Don Cherry might say.\"\n        ],\n        \"num_unique_values\": 17,\n        \"semantic_type\": \"\",\n        \"description\": \"\"\n      }\n    },\n    {\n      \"column\": \"sentiment\",\n      \"properties\": {\n        \"dtype\": \"category\",\n        \"samples\": [\n          \"positive\",\n          \"negative\"\n        ],\n        \"num_unique_values\": 2,\n        \"semantic_type\": \"\",\n        \"description\": \"\"\n      }\n    }\n  ]\n}"
            }
          },
          "metadata": {},
          "execution_count": 76
        }
      ]
    },
    {
      "cell_type": "code",
      "source": [
        "# Remove Duplicated Values\n",
        "df.drop_duplicates(inplace= True)\n",
        "df.duplicated().sum()"
      ],
      "metadata": {
        "colab": {
          "base_uri": "https://localhost:8080/"
        },
        "id": "HzfqjWgkMtw4",
        "outputId": "ff3825bc-05d4-451b-b416-adb94a683b25"
      },
      "execution_count": 77,
      "outputs": [
        {
          "output_type": "execute_result",
          "data": {
            "text/plain": [
              "0"
            ]
          },
          "metadata": {},
          "execution_count": 77
        }
      ]
    },
    {
      "cell_type": "markdown",
      "source": [
        "## Data Formating"
      ],
      "metadata": {
        "id": "fCSMPuNSUrPG"
      }
    },
    {
      "cell_type": "code",
      "source": [
        "# There is no need to change any column's data type.\n",
        "# There is no need to drop any columns.\n",
        "# There is no need to rename any columns."
      ],
      "metadata": {
        "id": "QSGW4nq3VRGw"
      },
      "execution_count": 78,
      "outputs": []
    },
    {
      "cell_type": "markdown",
      "source": [
        "## **Predictive Analysis**"
      ],
      "metadata": {
        "id": "rc62FhNMZ0NY"
      }
    },
    {
      "cell_type": "markdown",
      "source": [
        "Let's start building different Machine Learning models and train them."
      ],
      "metadata": {
        "id": "63A_BdoGc9hN"
      }
    },
    {
      "cell_type": "code",
      "source": [
        "# Plotting and Checking if the data is imbalanced or not\n",
        "data_bal = df['sentiment'].value_counts(normalize= True)\n",
        "print(data_bal)\n",
        "\n",
        "plt.figure(figsize=(8,5))\n",
        "fig = sns.countplot(df, x= 'sentiment', palette= ['teal', 'coral'])\n",
        "fig.set_title('Number of Positive and Negative')\n",
        "fig.set_xlabel('Classes')\n",
        "fig.set_ylabel('Number of Data points')\n",
        "plt.show()"
      ],
      "metadata": {
        "colab": {
          "base_uri": "https://localhost:8080/",
          "height": 539
        },
        "id": "9TfsCa_qarIl",
        "outputId": "0a65bb1e-f6fc-49ac-e530-9fc254a2588b"
      },
      "execution_count": 80,
      "outputs": [
        {
          "output_type": "stream",
          "name": "stdout",
          "text": [
            "positive    0.503155\n",
            "negative    0.496845\n",
            "Name: sentiment, dtype: float64\n"
          ]
        },
        {
          "output_type": "display_data",
          "data": {
            "text/plain": [
              "<Figure size 800x500 with 1 Axes>"
            ],
            "image/png": "[encoded data removed]"
          },
          "metadata": {}
        }
      ]
    },
    {
      "cell_type": "markdown",
      "source": [
        "### Data Preprocessing / Text Preprocessing"
      ],
      "metadata": {
        "id": "-tRbLbwPlbol"
      }
    },
    {
      "cell_type": "markdown",
      "source": [
        "1. Text Cleaning:\n",
        "* Remove unnecessary characters(emojis, url, html tags, punctuation, numbers, chat words)\n",
        "* tokenization\n",
        "* stopwords\n",
        "* apply stemming or lemmatization.\n",
        "2. Vectorization: Convert text data into numerical format using techniques like TF-IDF or CountVectorizer, which are essential for machine learning models to process text data.\n"
      ],
      "metadata": {
        "id": "67EYfGybx1cY"
      }
    },
    {
      "cell_type": "markdown",
      "source": [
        "Text Cleaning"
      ],
      "metadata": {
        "id": "1gmbIQ41Qdp4"
      }
    },
    {
      "cell_type": "code",
      "source": [
        "# Lowercasing                                # df['review'] = df['review'].astype(str)\n",
        "df['review'] = df['review'].str.lower()      # df['review'] = df['review'].lower()  inside function\n",
        "df['review'].head()\n",
        "                                             # df['review'] = df['review'].apply(lambda x: x.lower())"
      ],
      "metadata": {
        "colab": {
          "base_uri": "https://localhost:8080/"
        },
        "id": "cWNIWz1hXnjk",
        "outputId": "38fe363e-6072-41a2-c4fb-3b1b3846e0b6"
      },
      "execution_count": 81,
      "outputs": [
        {
          "output_type": "execute_result",
          "data": {
            "text/plain": [
              "0    one of the other reviewers has mentioned that ...\n",
              "1    a wonderful little production. <br /><br />the...\n",
              "2    i thought this was a wonderful way to spend ti...\n",
              "3    basically there's a family where a little boy ...\n",
              "4    petter mattei's \"love in the time of money\" is...\n",
              "Name: review, dtype: object"
            ]
          },
          "metadata": {},
          "execution_count": 81
        }
      ]
    },
    {
      "cell_type": "code",
      "source": [
        "# Removing HTML tags\n",
        "def remove_html_tags(text):                          # def remove_html_tags(text):\n",
        "  text = re.sub('<.*?>', ' ', text)                  #   pattern = re.compile('<.*?>')\n",
        "  return text                                        #   return pattern.sub(r'', text)\n",
        "\n",
        "df['review'] = df['review'].apply(remove_html_tags)  # df['review'] = df['review'].astype(str)\n",
        "df['review'].head()                                  # df['review'] = re.sub('<.*?>', ' ',df['review'])\n",
        "\n",
        "                                                     # lambda\n",
        "                                                     # def strip_html_tags(text):\n",
        "                                                     #   soup = BeautifulSoup(text, \"html.parser\")\n",
        "                                                     #   return soup.get_text()"
      ],
      "metadata": {
        "colab": {
          "base_uri": "https://localhost:8080/"
        },
        "id": "N1ZwgEeMfXQr",
        "outputId": "d17c9ff9-9d22-44d3-8614-55b813cff898"
      },
      "execution_count": 83,
      "outputs": [
        {
          "output_type": "execute_result",
          "data": {
            "text/plain": [
              "0    one of the other reviewers has mentioned that ...\n",
              "1    a wonderful little production.   the filming t...\n",
              "2    i thought this was a wonderful way to spend ti...\n",
              "3    basically there's a family where a little boy ...\n",
              "4    petter mattei's \"love in the time of money\" is...\n",
              "Name: review, dtype: object"
            ]
          },
          "metadata": {},
          "execution_count": 83
        }
      ]
    },
    {
      "cell_type": "code",
      "source": [
        "# Removing URL                                        # lambda\n",
        "def remove_url(text):                                       # def remove_url(text):\n",
        "  text = re.sub('https?://\\S+|www.\\.\\S+', ' ', text)        #  pattern = re.compile(r'https?://\\S+|www.\\.\\S+')\n",
        "  return text                                               #  return pattern.sub(r'', text)\n",
        "\n",
        "df['review'] = df['review'].apply(remove_url)               # df['review'] = df['review'].astype(str)\n",
        "df['review'].head()                                         # df['review'] = re.sub('https?://\\S+|www.\\.\\S+', ' ', df['review'])"
      ],
      "metadata": {
        "colab": {
          "base_uri": "https://localhost:8080/"
        },
        "id": "Seo_pwqMTCug",
        "outputId": "4e58eeda-61cb-4703-83b3-f2c773b9b5d2"
      },
      "execution_count": 84,
      "outputs": [
        {
          "output_type": "execute_result",
          "data": {
            "text/plain": [
              "0    one of the other reviewers has mentioned that ...\n",
              "1    a wonderful little production.   the filming t...\n",
              "2    i thought this was a wonderful way to spend ti...\n",
              "3    basically there's a family where a little boy ...\n",
              "4    petter mattei's \"love in the time of money\" is...\n",
              "Name: review, dtype: object"
            ]
          },
          "metadata": {},
          "execution_count": 84
        }
      ]
    },
    {
      "cell_type": "code",
      "source": [
        "# Removing Punctuation                               # lambda\n",
        "punctuation_list = string.punctuation                   # df['review'] = df['review'].astype(str)\n",
        "print(punctuation_list, '\\n')                           # df['review'] = re.sub('[^a-zA-Z]', ' ', df['review'])\n",
        "\n",
        "def remove_punctuation(text):                           # def remove_punctuation(text):\n",
        "  for char in punctuation_list:                         #   text = re.sub('[^a-zA-Z]', ' ', text)\n",
        "    text = text.replace(char, ' ')                       #   return text\n",
        "  return text\n",
        "                                                        # def remove_punctuation(test):\n",
        "df['review'] = df['review'].apply(remove_punctuation)   #   pattern = re.compile('[^a-zA-Z]')\n",
        "df['review'].head()                                     #   return pattern.sub(r'', text)"
      ],
      "metadata": {
        "colab": {
          "base_uri": "https://localhost:8080/"
        },
        "id": "bpLOf5dpkg0R",
        "outputId": "0669402a-ca0e-4c72-ea0f-168fc84dcf0f"
      },
      "execution_count": 86,
      "outputs": [
        {
          "output_type": "stream",
          "name": "stdout",
          "text": [
            "!\"#$%&'()*+,-./:;<=>?@[\\]^_`{|}~ \n",
            "\n"
          ]
        },
        {
          "output_type": "execute_result",
          "data": {
            "text/plain": [
              "0    one of the other reviewers has mentioned that ...\n",
              "1    a wonderful little production    the filming t...\n",
              "2    i thought this was a wonderful way to spend ti...\n",
              "3    basically there s a family where a little boy ...\n",
              "4    petter mattei s  love in the time of money  is...\n",
              "Name: review, dtype: object"
            ]
          },
          "metadata": {},
          "execution_count": 86
        }
      ]
    },
    {
      "cell_type": "code",
      "source": [
        "# Spell Checker                      # TextBlob, enchanter, spellchecker, pyspellchecker\n",
        "def spell_checker(text):                           # df['review'] = df['review'].astype(str)\n",
        "  text_blb = TextBlob(text)                        # text_blb = TextBlob(df['review'])\n",
        "  text = text_blb.correct().string                 # text_blb.correct().string\n",
        "  return text\n",
        "\n",
        "df['review'] = df['review'].apply(spell_checker)\n",
        "df['review'].head()"
      ],
      "metadata": {
        "id": "-TTGkWbW0eXU",
        "colab": {
          "base_uri": "https://localhost:8080/"
        },
        "outputId": "5d3e159f-6b89-4121-df3b-19e63079a1ad"
      },
      "execution_count": 41,
      "outputs": [
        {
          "output_type": "execute_result",
          "data": {
            "text/plain": [
              "0    one of the other reviews has mentioned that af...\n",
              "1    a wonderful little production    the filling t...\n",
              "2    i thought this was a wonderful way to spend ti...\n",
              "3    basically there s a family where a little boy ...\n",
              "4    letter matter s  love in the time of money  is...\n",
              "Name: review, dtype: object"
            ]
          },
          "metadata": {},
          "execution_count": 41
        }
      ]
    },
    {
      "cell_type": "code",
      "source": [
        "# Remove emojis\n",
        "def remove_emojis(text):\n",
        "  pattern = re.compile(\"[\"u\"\\U0001F600-\\U0001F64F\"  # emoticons\n",
        "                   u\"\\U0001F300-\\U0001F5FF\"  # symbols & pictographs\n",
        "                   u\"\\U0001F680-\\U0001F6FF\"  # transport & map symbols\n",
        "                   u\"\\U0001F700-\\U0001F77F\"  # alchemical symbols\n",
        "                   u\"\\U0001F780-\\U0001F7FF\"  # Geometric Shapes Extended\n",
        "                   u\"\\U0001F800-\\U0001F8FF\"  # Supplemental Arrows-C\n",
        "                   u\"\\U0001F900-\\U0001F9FF\"  # Supplemental Symbols and Pictographs\n",
        "                   u\"\\U0001FA00-\\U0001FA6F\"  # Chess Symbols\n",
        "                   u\"\\U0001FA70-\\U0001FAFF\"  # Symbols and Pictographs Extended-A\n",
        "                   u\"\\U00002702-\\U000027B0\"  # Dingbats\n",
        "                   u\"\\U000024C2-\\U0001F251\"\n",
        "                    \"]+\", flags= re.UNICODE)\n",
        "  return pattern.sub(r'', text)\n",
        "\n",
        "df['review'] = df['review'].apply(remove_emojis)\n",
        "df['review'].head()"
      ],
      "metadata": {
        "colab": {
          "base_uri": "https://localhost:8080/"
        },
        "id": "763xGsuugOQN",
        "outputId": "77c87590-d1f6-490a-a8bf-61f9e94d938d"
      },
      "execution_count": 88,
      "outputs": [
        {
          "output_type": "execute_result",
          "data": {
            "text/plain": [
              "0    one of the other reviewers has mentioned that ...\n",
              "1    a wonderful little production    the filming t...\n",
              "2    i thought this was a wonderful way to spend ti...\n",
              "3    basically there s a family where a little boy ...\n",
              "4    petter mattei s  love in the time of money  is...\n",
              "Name: review, dtype: object"
            ]
          },
          "metadata": {},
          "execution_count": 88
        }
      ]
    },
    {
      "cell_type": "code",
      "source": [
        "# Removing Stopwords\n",
        "nltk.download('stopwords')                                                      # lambda\n",
        "stop_words = set(stopwords.words('english'))\n",
        "                                                                                # def remove_stopwords(text):\n",
        "def remove_stopwords(text):                                                     #   for word in text.split():\n",
        "  text = ' '.join([word for word in text.split() if word not in stop_words])    #     if word in stop_words:\n",
        "  return text                                                                   #       text = text.replace(word, '')\n",
        "                                                                                #   return ' '.join(text)\n",
        "df['review'] = df['review'].apply(remove_stopwords)\n",
        "df['review'].head()"
      ],
      "metadata": {
        "colab": {
          "base_uri": "https://localhost:8080/"
        },
        "id": "_QJ20yM_AXiZ",
        "outputId": "cec5b0b9-283c-4b8b-d897-2739c09217ba"
      },
      "execution_count": 89,
      "outputs": [
        {
          "output_type": "stream",
          "name": "stderr",
          "text": [
            "[nltk_data] Downloading package stopwords to /root/nltk_data...\n",
            "[nltk_data]   Package stopwords is already up-to-date!\n"
          ]
        },
        {
          "output_type": "execute_result",
          "data": {
            "text/plain": [
              "0    one reviewers mentioned watching 1 oz episode ...\n",
              "1    wonderful little production filming technique ...\n",
              "2    thought wonderful way spend time hot summer we...\n",
              "3    basically family little boy jake thinks zombie...\n",
              "4    petter mattei love time money visually stunnin...\n",
              "Name: review, dtype: object"
            ]
          },
          "metadata": {},
          "execution_count": 89
        }
      ]
    },
    {
      "cell_type": "code",
      "source": [
        "# Tokenization                                     # lambda\n",
        "nlp = spacy.load('en_core_web_sm')                       # df['review'] = df['review'].astype(str)\n",
        "                                                         # nlp = spacy.load('en_core_web_sm')\n",
        "def apply_tokenize(text):                                # df['review'] = nlp(df['review'])\n",
        "  text = nlp(text)\n",
        "  return text                                            # for i in len(df):\n",
        "                                                         #    df['review'][i] = nlp(df['review'][i])\n",
        "df['review'] = df['review'].apply(apply_tokenize)\n",
        "df['review'].head()                                      # text = word_tokenize(text) & text = sent_tokenize(text)"
      ],
      "metadata": {
        "id": "iRjoVnwhmsmm",
        "colab": {
          "base_uri": "https://localhost:8080/"
        },
        "outputId": "53ff9b97-5eac-4152-ad14-fc8ba5c40735"
      },
      "execution_count": 90,
      "outputs": [
        {
          "output_type": "execute_result",
          "data": {
            "text/plain": [
              "0    (one, reviewers, mentioned, watching, 1, oz, e...\n",
              "1    (wonderful, little, production, filming, techn...\n",
              "2    (thought, wonderful, way, spend, time, hot, su...\n",
              "3    (basically, family, little, boy, jake, thinks,...\n",
              "4    (petter, mattei, love, time, money, visually, ...\n",
              "Name: review, dtype: object"
            ]
          },
          "metadata": {},
          "execution_count": 90
        }
      ]
    },
    {
      "cell_type": "code",
      "source": [
        "# Stemming & Lemmatization\n",
        "nlp = spacy.load('en_core_web_sm')\n",
        "lemmatizer = WordNetLemmatizer()\n",
        "\n",
        "def text_lemmatization(text):\n",
        "  doc = nlp(text)\n",
        "  text = ' '.join([word.lemma_ for word in doc])\n",
        "  return text\n",
        "\n",
        "df['review'] = df['review'].apply(text_lemmatization)\n",
        "df['review'].head()"
      ],
      "metadata": {
        "id": "iMCkb9-l5Nq4",
        "colab": {
          "base_uri": "https://localhost:8080/"
        },
        "outputId": "f24847c3-6f2d-419c-c9de-ce8993079222"
      },
      "execution_count": 91,
      "outputs": [
        {
          "output_type": "execute_result",
          "data": {
            "text/plain": [
              "0    one reviewer mention watch 1 oz episode hook r...\n",
              "1    wonderful little production filming technique ...\n",
              "2    think wonderful way spend time hot summer week...\n",
              "3    basically family little boy jake think zombie ...\n",
              "4    petter mattei love time money visually stunnin...\n",
              "Name: review, dtype: object"
            ]
          },
          "metadata": {},
          "execution_count": 91
        }
      ]
    },
    {
      "cell_type": "markdown",
      "source": [
        "The text data has been successfully cleaned:\n",
        "\n",
        "* Removing html tags, url, emojis, punctuation and numbers, leaving only letters.\n",
        "* Converting all text to lowercase to ensure uniformity.\n",
        "* Removing common English stopwords (e.g., \"the\", \"is\", \"in\") that do not contribute much to the meaning of the messages.\n",
        "* Applying stemming / lemmaatization to reduce words to their base or root form, which helps in generalizing different forms of the same word."
      ],
      "metadata": {
        "id": "BIxRfE4Qf8yo"
      }
    },
    {
      "cell_type": "markdown",
      "source": [
        "Vectorization"
      ],
      "metadata": {
        "id": "h_cxMaqSfNlK"
      }
    },
    {
      "cell_type": "code",
      "source": [
        "# Vectorizing the cleaned text data using TF-IDF / CountVectorizer\n",
        "vectorizer = CountVectorizer(max_features= 5000)\n",
        "vectorized_text = vectorizer.fit_transform(df['review']).toarray()"
      ],
      "metadata": {
        "id": "r1ut-zvSfTr0"
      },
      "execution_count": 92,
      "outputs": []
    },
    {
      "cell_type": "code",
      "source": [
        "vectorized_text"
      ],
      "metadata": {
        "id": "lfPNFU3FmJBP",
        "colab": {
          "base_uri": "https://localhost:8080/"
        },
        "outputId": "12494bdf-6b50-405e-b850-235e732f4957"
      },
      "execution_count": 93,
      "outputs": [
        {
          "output_type": "execute_result",
          "data": {
            "text/plain": [
              "array([[0, 0, 0, ..., 0, 0, 0],\n",
              "       [0, 0, 0, ..., 0, 0, 0],\n",
              "       [0, 0, 0, ..., 0, 0, 0],\n",
              "       ...,\n",
              "       [0, 0, 0, ..., 0, 0, 0],\n",
              "       [0, 0, 0, ..., 0, 0, 0],\n",
              "       [0, 0, 0, ..., 0, 0, 0]])"
            ]
          },
          "metadata": {},
          "execution_count": 93
        }
      ]
    },
    {
      "cell_type": "code",
      "source": [
        "vectorized_text.shape"
      ],
      "metadata": {
        "id": "WpAiWEehmQoB",
        "colab": {
          "base_uri": "https://localhost:8080/"
        },
        "outputId": "52afd2a8-b8c7-48de-c145-d555a6d4a133"
      },
      "execution_count": 94,
      "outputs": [
        {
          "output_type": "execute_result",
          "data": {
            "text/plain": [
              "(9983, 5000)"
            ]
          },
          "metadata": {},
          "execution_count": 94
        }
      ]
    },
    {
      "cell_type": "markdown",
      "source": [
        "* This indicates that our dataset has been vectorized into a space with 5000 features, which corresponds to the unique words identified by the CountVectorizer after preprocessing the text data."
      ],
      "metadata": {
        "id": "HbaU7ZENmfPb"
      }
    },
    {
      "cell_type": "markdown",
      "source": [
        "Feature Engineering"
      ],
      "metadata": {
        "id": "ATBQrtu9muBb"
      }
    },
    {
      "cell_type": "code",
      "source": [
        "# Encoding                              # lambda and if else  # df['review'] = df['review'].apply(lambda x: x.map({'positive' : 1, 'negative' : 0}))\n",
        "encoder = LabelEncoder()                                      # df['review'] = df['review'].replace('positive', 1)\n",
        "df['sentiment'] = encoder.fit_transform(df['sentiment'])      # df['review'] = df['review'].replace('negative', 0)\n",
        "dict_senti = dict(enumerate(encoder.classes_))\n",
        "print(dict_senti)                                             # df['sentiment'] = df['sentiment'].map({'positive' : 1, 'negative' : 0})"
      ],
      "metadata": {
        "id": "eqUSPhw4m1K4",
        "colab": {
          "base_uri": "https://localhost:8080/"
        },
        "outputId": "659b255c-d5db-4883-f3d8-ffaa9af9d343"
      },
      "execution_count": 95,
      "outputs": [
        {
          "output_type": "stream",
          "name": "stdout",
          "text": [
            "{0: 'negative', 1: 'positive'}\n"
          ]
        }
      ]
    },
    {
      "cell_type": "code",
      "source": [
        "# Select and define features(x) and target variable(y)\n",
        "x = vectorized_text                                     # x = vectorizer.fit_transform(df['review']).toarray()\n",
        "y = df['sentiment']                                     # y = df['sentiment'].map({'positive' : 1, 'negative' : -1})"
      ],
      "metadata": {
        "id": "Fm1wQ9lbEAdV"
      },
      "execution_count": 96,
      "outputs": []
    },
    {
      "cell_type": "code",
      "source": [
        "x[:5]"
      ],
      "metadata": {
        "id": "vUz3QQnPGMNF",
        "colab": {
          "base_uri": "https://localhost:8080/"
        },
        "outputId": "7cfc3d8e-40bc-4a1f-f14f-2c46df4a08ba"
      },
      "execution_count": 97,
      "outputs": [
        {
          "output_type": "execute_result",
          "data": {
            "text/plain": [
              "array([[0, 0, 0, ..., 0, 0, 0],\n",
              "       [0, 0, 0, ..., 0, 0, 0],\n",
              "       [0, 0, 0, ..., 0, 0, 0],\n",
              "       [0, 0, 0, ..., 0, 2, 0],\n",
              "       [0, 0, 0, ..., 0, 0, 0]])"
            ]
          },
          "metadata": {},
          "execution_count": 97
        }
      ]
    },
    {
      "cell_type": "code",
      "source": [
        "y[:5]"
      ],
      "metadata": {
        "id": "hSlXh8fAGR8S",
        "colab": {
          "base_uri": "https://localhost:8080/"
        },
        "outputId": "46388ac5-06b5-471b-b3be-f755f73ef84e"
      },
      "execution_count": 98,
      "outputs": [
        {
          "output_type": "execute_result",
          "data": {
            "text/plain": [
              "0    1\n",
              "1    1\n",
              "2    1\n",
              "3    0\n",
              "4    1\n",
              "Name: sentiment, dtype: int64"
            ]
          },
          "metadata": {},
          "execution_count": 98
        }
      ]
    },
    {
      "cell_type": "markdown",
      "source": [
        "Data Spliting"
      ],
      "metadata": {
        "id": "_leUwTs3GYI1"
      }
    },
    {
      "cell_type": "code",
      "source": [
        "# Splitting the dataset into training and testing parts\n",
        "x_train, x_test, y_train, y_test = train_test_split(x, y, test_size= 0.2, random_state= 42)"
      ],
      "metadata": {
        "id": "vmRLIeSVGkvD"
      },
      "execution_count": 99,
      "outputs": []
    },
    {
      "cell_type": "code",
      "source": [
        "# Display the shape of the training and testing sets\n",
        "print('Training set shape of x: ', x_train.shape)\n",
        "print('Testing set shape of x: ', x_test.shape)\n",
        "print('Training set shape of y: ', y_train.shape)\n",
        "print('Testing set shape of y: ', y_test.shape)"
      ],
      "metadata": {
        "id": "Lr6ScmsgHvfg",
        "colab": {
          "base_uri": "https://localhost:8080/"
        },
        "outputId": "07d19e1c-c338-4b75-dff2-7e609388cfca"
      },
      "execution_count": 100,
      "outputs": [
        {
          "output_type": "stream",
          "name": "stdout",
          "text": [
            "Training set shape of x:  (7986, 5000)\n",
            "Testing set shape of x:  (1997, 5000)\n",
            "Training set shape of y:  (7986,)\n",
            "Testing set shape of y:  (1997,)\n"
          ]
        }
      ]
    },
    {
      "cell_type": "markdown",
      "source": [
        "### Model Building"
      ],
      "metadata": {
        "id": "qmqbAoQcI9ah"
      }
    },
    {
      "cell_type": "code",
      "source": [
        "# Logistic Regression\n",
        "log_reg = LogisticRegression(random_state= 42)\n",
        "log_reg.fit(x_train, y_train)\n",
        "y_pred_log = log_reg.predict(x_test)\n",
        "print(log_reg.score(x_train, y_train))\n",
        "\n",
        "# Naive_Bayes\n",
        "nb_model = MultinomialNB()\n",
        "nb_model.fit(x_train, y_train)\n",
        "y_pred_nb = nb_model.predict(x_test)\n",
        "print(nb_model.score(x_train, y_train))\n",
        "\n",
        "# Neural Network\n",
        "nn_model = MLPClassifier()\n",
        "nn_model.fit(x_train, y_train)\n",
        "y_pred_nn = nn_model.predict(x_test)\n",
        "print(nn_model.score(x_train, y_train))\n",
        "\n",
        "# Decision Tree\n",
        "dt_model = DecisionTreeClassifier()\n",
        "dt_model.fit(x_train, y_train)\n",
        "y_pred_dt = dt_model.predict(x_test)\n",
        "print(dt_model.score(x_train, y_train))\n",
        "\n",
        "# Random Forest\n",
        "rf_model = RandomForestClassifier()\n",
        "rf_model.fit(x_train, y_train)\n",
        "y_pred_rf = rf_model.predict(x_test)\n",
        "print(rf_model.score(x_train, y_train))\n",
        "\n",
        "# K-Neighbors\n",
        "kn_model = KNeighborsClassifier()\n",
        "kn_model.fit(x_train, y_train)\n",
        "y_pred_kn = kn_model.predict(x_test)\n",
        "print(kn_model.score(x_train, y_train))\n",
        "\n",
        "# SVM\n",
        "svm_model = SVC()\n",
        "svm_model.fit(x_train, y_train)\n",
        "y_pred_svm = svm_model.predict(x_test)\n",
        "print(svm_model.score(x_train, y_train))\n"
      ],
      "metadata": {
        "id": "5ZebhG5JJUmN",
        "colab": {
          "base_uri": "https://localhost:8080/"
        },
        "outputId": "349aaa1b-a959-49c4-d91e-5e13b12e2596"
      },
      "execution_count": 101,
      "outputs": [
        {
          "output_type": "stream",
          "name": "stdout",
          "text": [
            "0.9963686451289757\n",
            "0.8754069621838216\n",
            "1.0\n",
            "1.0\n",
            "1.0\n",
            "0.7553218131730528\n",
            "0.958427247683446\n"
          ]
        }
      ]
    },
    {
      "cell_type": "code",
      "source": [
        "# LightGBM\n",
        "lgbm_model = LGBMClassifier()\n",
        "lgbm_model.fit(x_train, y_train)\n",
        "y_pred_lgbm = lgbm_model.predict(x_test)\n",
        "print(lgbm_model.score(x_train, y_train))\n",
        "\n",
        "# XGboost\n",
        "xgb_model = XGBClassifier()\n",
        "xgb_model.fit(x_train, y_train)\n",
        "y_pred_xgb = xgb_model.predict(x_test)\n",
        "print(xgb_model.score(x_train, y_train))\n",
        "\n",
        "# Catboost\n",
        "cat_model = CatBoostClassifier(verbose= False)\n",
        "cat_model.fit(x_train, y_train)\n",
        "y_pred_cat = cat_model.predict(x_test)\n",
        "print(cat_model.score(x_train, y_train))\n"
      ],
      "metadata": {
        "id": "OY3nrHjNVaTG",
        "colab": {
          "base_uri": "https://localhost:8080/"
        },
        "outputId": "1333b89f-20ea-4888-81fc-e106e18354ce"
      },
      "execution_count": 102,
      "outputs": [
        {
          "output_type": "stream",
          "name": "stdout",
          "text": [
            "[LightGBM] [Info] Number of positive: 4011, number of negative: 3975\n",
            "[LightGBM] [Info] Auto-choosing row-wise multi-threading, the overhead of testing was 1.351930 seconds.\n",
            "You can set `force_row_wise=true` to remove the overhead.\n",
            "And if memory is not enough, you can set `force_col_wise=true`.\n",
            "[LightGBM] [Info] Total Bins 16985\n",
            "[LightGBM] [Info] Number of data points in the train set: 7986, number of used features: 4462\n",
            "[LightGBM] [Info] [binary:BoostFromScore]: pavg=0.502254 -> initscore=0.009016\n",
            "[LightGBM] [Info] Start training from score 0.009016\n",
            "0.9516654144753318\n",
            "0.9706987227648385\n",
            "0.9297520661157025\n"
          ]
        }
      ]
    },
    {
      "cell_type": "markdown",
      "source": [
        "### Model Evaluation"
      ],
      "metadata": {
        "id": "mWo-h6j5Y2OX"
      }
    },
    {
      "cell_type": "markdown",
      "source": [
        "Logistic Regression"
      ],
      "metadata": {
        "id": "mileK2kxyRrK"
      }
    },
    {
      "cell_type": "code",
      "source": [
        "# Logistic Regression\n",
        "print('The performance evaluation of Logistic Regression Model is below: ', '\\n')\n",
        "print('Accuracy Score: ', accuracy_score(y_test, y_pred_log), '\\n')\n",
        "print('Precision Score: ', precision_score(y_test, y_pred_log), '\\n')\n",
        "print('F1 Score: ', f1_score(y_test, y_pred_log), '\\n')\n",
        "print('Recall Score: ', recall_score(y_test, y_pred_log), '\\n')\n",
        "print('Confusion Matrix: ', '\\n', confusion_matrix(y_test, y_pred_log), '\\n')\n",
        "print('Classification Report: ', '\\n', classification_report(y_test, y_pred_log, target_names= ['Positive', 'Negative']), '\\n')"
      ],
      "metadata": {
        "id": "9OQv-d77Y7_U",
        "colab": {
          "base_uri": "https://localhost:8080/"
        },
        "outputId": "01703435-5658-45a6-8182-ca7d7cb3906a"
      },
      "execution_count": 103,
      "outputs": [
        {
          "output_type": "stream",
          "name": "stdout",
          "text": [
            "The performance evaluation of Logistic Regression Model is below:  \n",
            "\n",
            "Accuracy Score:  0.8542814221331998 \n",
            "\n",
            "Precision Score:  0.8503401360544217 \n",
            "\n",
            "F1 Score:  0.8574228319451249 \n",
            "\n",
            "Recall Score:  0.8646245059288538 \n",
            "\n",
            "Confusion Matrix:  \n",
            " [[831 154]\n",
            " [137 875]] \n",
            "\n",
            "Classification Report:  \n",
            "               precision    recall  f1-score   support\n",
            "\n",
            "    Positive       0.86      0.84      0.85       985\n",
            "    Negative       0.85      0.86      0.86      1012\n",
            "\n",
            "    accuracy                           0.85      1997\n",
            "   macro avg       0.85      0.85      0.85      1997\n",
            "weighted avg       0.85      0.85      0.85      1997\n",
            " \n",
            "\n"
          ]
        }
      ]
    },
    {
      "cell_type": "markdown",
      "source": [
        "Naive_Bayes"
      ],
      "metadata": {
        "id": "WJNd_Ww16CoW"
      }
    },
    {
      "cell_type": "code",
      "source": [
        "# Naive_Bayes\n",
        "print('The performance evaluation of Naive_Bayes Model is below: ', '\\n')\n",
        "print('Accuracy Score: ', accuracy_score(y_test, y_pred_nb), '\\n')\n",
        "print('Precision Score: ', precision_score(y_test, y_pred_nb), '\\n')\n",
        "print('F1 Score: ', f1_score(y_test, y_pred_nb), '\\n')\n",
        "print('Recall Score: ', recall_score(y_test, y_pred_nb), '\\n')\n",
        "print('Confusion Matrix: ', '\\n', confusion_matrix(y_test, y_pred_nb), '\\n')\n",
        "print('Classification Report: ', '\\n', classification_report(y_test, y_pred_nb, target_names= ['Positive', 'Negative']), '\\n')"
      ],
      "metadata": {
        "id": "e8L_q3y75-KR",
        "colab": {
          "base_uri": "https://localhost:8080/"
        },
        "outputId": "2028f644-1c37-484f-a755-876ddc8b65fc"
      },
      "execution_count": 104,
      "outputs": [
        {
          "output_type": "stream",
          "name": "stdout",
          "text": [
            "The performance evaluation of Naive_Bayes Model is below:  \n",
            "\n",
            "Accuracy Score:  0.8532799198798198 \n",
            "\n",
            "Precision Score:  0.8555885262116716 \n",
            "\n",
            "F1 Score:  0.8551655956500246 \n",
            "\n",
            "Recall Score:  0.8547430830039525 \n",
            "\n",
            "Confusion Matrix:  \n",
            " [[839 146]\n",
            " [147 865]] \n",
            "\n",
            "Classification Report:  \n",
            "               precision    recall  f1-score   support\n",
            "\n",
            "    Positive       0.85      0.85      0.85       985\n",
            "    Negative       0.86      0.85      0.86      1012\n",
            "\n",
            "    accuracy                           0.85      1997\n",
            "   macro avg       0.85      0.85      0.85      1997\n",
            "weighted avg       0.85      0.85      0.85      1997\n",
            " \n",
            "\n"
          ]
        }
      ]
    },
    {
      "cell_type": "markdown",
      "source": [
        "Neural Network"
      ],
      "metadata": {
        "id": "8F7YbNTN6D6_"
      }
    },
    {
      "cell_type": "code",
      "source": [
        "# Neural Network\n",
        "print('The performance evaluation of Logistic Regression Model is below: ', '\\n')\n",
        "print('Accuracy Score: ', accuracy_score(y_test, y_pred_nn), '\\n')\n",
        "print('Precision Score: ', precision_score(y_test, y_pred_nn), '\\n')\n",
        "print('F1 Score: ', f1_score(y_test, y_pred_nn), '\\n')\n",
        "print('Recall Score: ', recall_score(y_test, y_pred_nn), '\\n')\n",
        "print('Confusion Matrix: ', '\\n', confusion_matrix(y_test, y_pred_nn), '\\n')\n",
        "print('Classification Report: ', '\\n', classification_report(y_test, y_pred_nn, target_names= ['Positive', 'Negative']), '\\n')"
      ],
      "metadata": {
        "id": "XOEP8ZuF6Ejh",
        "colab": {
          "base_uri": "https://localhost:8080/"
        },
        "outputId": "73523e33-96be-40f0-d208-91d77df6b850"
      },
      "execution_count": 105,
      "outputs": [
        {
          "output_type": "stream",
          "name": "stdout",
          "text": [
            "The performance evaluation of Logistic Regression Model is below:  \n",
            "\n",
            "Accuracy Score:  0.8552829243865798 \n",
            "\n",
            "Precision Score:  0.8540646425073457 \n",
            "\n",
            "F1 Score:  0.8578455484505657 \n",
            "\n",
            "Recall Score:  0.8616600790513834 \n",
            "\n",
            "Confusion Matrix:  \n",
            " [[836 149]\n",
            " [140 872]] \n",
            "\n",
            "Classification Report:  \n",
            "               precision    recall  f1-score   support\n",
            "\n",
            "    Positive       0.86      0.85      0.85       985\n",
            "    Negative       0.85      0.86      0.86      1012\n",
            "\n",
            "    accuracy                           0.86      1997\n",
            "   macro avg       0.86      0.86      0.86      1997\n",
            "weighted avg       0.86      0.86      0.86      1997\n",
            " \n",
            "\n"
          ]
        }
      ]
    },
    {
      "cell_type": "markdown",
      "source": [
        "Decision Tree Model"
      ],
      "metadata": {
        "id": "YQEd7JH96t-u"
      }
    },
    {
      "cell_type": "code",
      "source": [
        "# Decision Tree\n",
        "print('The performance evaluation of Decision Tree Model is below: ', '\\n')\n",
        "print('Accuracy Score: ', accuracy_score(y_test, y_pred_dt), '\\n')\n",
        "print('Precision Score: ', precision_score(y_test, y_pred_dt), '\\n')\n",
        "print('F1 Score: ', f1_score(y_test, y_pred_dt), '\\n')\n",
        "print('Recall Score: ', recall_score(y_test, y_pred_dt), '\\n')\n",
        "print('Confusion Matrix: ', '\\n', confusion_matrix(y_test, y_pred_dt), '\\n')\n",
        "print('Classification Report: ', '\\n', classification_report(y_test, y_pred_dt, target_names= ['Positive', 'Negative']), '\\n')"
      ],
      "metadata": {
        "id": "3-MDUR0A6uo2",
        "colab": {
          "base_uri": "https://localhost:8080/"
        },
        "outputId": "27965f72-f776-4838-a6ba-8e6e0a4c8afe"
      },
      "execution_count": 106,
      "outputs": [
        {
          "output_type": "stream",
          "name": "stdout",
          "text": [
            "The performance evaluation of Decision Tree Model is below:  \n",
            "\n",
            "Accuracy Score:  0.6935403104656985 \n",
            "\n",
            "Precision Score:  0.6949317738791423 \n",
            "\n",
            "F1 Score:  0.6997055937193327 \n",
            "\n",
            "Recall Score:  0.7045454545454546 \n",
            "\n",
            "Confusion Matrix:  \n",
            " [[672 313]\n",
            " [299 713]] \n",
            "\n",
            "Classification Report:  \n",
            "               precision    recall  f1-score   support\n",
            "\n",
            "    Positive       0.69      0.68      0.69       985\n",
            "    Negative       0.69      0.70      0.70      1012\n",
            "\n",
            "    accuracy                           0.69      1997\n",
            "   macro avg       0.69      0.69      0.69      1997\n",
            "weighted avg       0.69      0.69      0.69      1997\n",
            " \n",
            "\n"
          ]
        }
      ]
    },
    {
      "cell_type": "markdown",
      "source": [
        "Random Forest"
      ],
      "metadata": {
        "id": "Ikfn_g_A6xYZ"
      }
    },
    {
      "cell_type": "code",
      "source": [
        "# Random Forest\n",
        "print('The performance evaluation of Random Forest Model is below: ', '\\n')\n",
        "print('Accuracy Score: ', accuracy_score(y_test, y_pred_rf), '\\n')\n",
        "print('Precision Score: ', precision_score(y_test, y_pred_rf), '\\n')\n",
        "print('F1 Score: ', f1_score(y_test, y_pred_rf), '\\n')\n",
        "print('Recall Score: ', recall_score(y_test, y_pred_rf), '\\n')\n",
        "print('Confusion Matrix: ', '\\n', confusion_matrix(y_test, y_pred_rf), '\\n')\n",
        "print('Classification Report: ', '\\n', classification_report(y_test, y_pred_rf, target_names= ['Positive', 'Negative']), '\\n')"
      ],
      "metadata": {
        "id": "MLQ8SezB6yRG",
        "colab": {
          "base_uri": "https://localhost:8080/"
        },
        "outputId": "58fcb8c8-4484-40dd-c125-8101d3c8489d"
      },
      "execution_count": 107,
      "outputs": [
        {
          "output_type": "stream",
          "name": "stdout",
          "text": [
            "The performance evaluation of Random Forest Model is below:  \n",
            "\n",
            "Accuracy Score:  0.8377566349524287 \n",
            "\n",
            "Precision Score:  0.8426294820717132 \n",
            "\n",
            "F1 Score:  0.8392857142857143 \n",
            "\n",
            "Recall Score:  0.8359683794466403 \n",
            "\n",
            "Confusion Matrix:  \n",
            " [[827 158]\n",
            " [166 846]] \n",
            "\n",
            "Classification Report:  \n",
            "               precision    recall  f1-score   support\n",
            "\n",
            "    Positive       0.83      0.84      0.84       985\n",
            "    Negative       0.84      0.84      0.84      1012\n",
            "\n",
            "    accuracy                           0.84      1997\n",
            "   macro avg       0.84      0.84      0.84      1997\n",
            "weighted avg       0.84      0.84      0.84      1997\n",
            " \n",
            "\n"
          ]
        }
      ]
    },
    {
      "cell_type": "markdown",
      "source": [
        "K-Neighbors"
      ],
      "metadata": {
        "id": "awhKsrnq60Iy"
      }
    },
    {
      "cell_type": "code",
      "source": [
        "# K-Neighbors\n",
        "print('The performance evaluation of K-Neighbors Model is below: ', '\\n')\n",
        "print('Accuracy Score: ', accuracy_score(y_test, y_pred_kn), '\\n')\n",
        "print('Precision Score: ', precision_score(y_test, y_pred_kn), '\\n')\n",
        "print('F1 Score: ', f1_score(y_test, y_pred_kn), '\\n')\n",
        "print('Recall Score: ', recall_score(y_test, y_pred_kn), '\\n')\n",
        "print('Confusion Matrix: ', '\\n', confusion_matrix(y_test, y_pred_kn), '\\n')\n",
        "print('Classification Report: ', '\\n', classification_report(y_test, y_pred_kn, target_names= ['Positive', 'Negative']), '\\n')"
      ],
      "metadata": {
        "id": "9YFPFaD160nH",
        "colab": {
          "base_uri": "https://localhost:8080/"
        },
        "outputId": "e4704c43-0a5f-4b72-be39-bd58c202e389"
      },
      "execution_count": 108,
      "outputs": [
        {
          "output_type": "stream",
          "name": "stdout",
          "text": [
            "The performance evaluation of K-Neighbors Model is below:  \n",
            "\n",
            "Accuracy Score:  0.6384576865297947 \n",
            "\n",
            "Precision Score:  0.6108562691131498 \n",
            "\n",
            "F1 Score:  0.6887931034482758 \n",
            "\n",
            "Recall Score:  0.7895256916996047 \n",
            "\n",
            "Confusion Matrix:  \n",
            " [[476 509]\n",
            " [213 799]] \n",
            "\n",
            "Classification Report:  \n",
            "               precision    recall  f1-score   support\n",
            "\n",
            "    Positive       0.69      0.48      0.57       985\n",
            "    Negative       0.61      0.79      0.69      1012\n",
            "\n",
            "    accuracy                           0.64      1997\n",
            "   macro avg       0.65      0.64      0.63      1997\n",
            "weighted avg       0.65      0.64      0.63      1997\n",
            " \n",
            "\n"
          ]
        }
      ]
    },
    {
      "cell_type": "markdown",
      "source": [
        "SVM"
      ],
      "metadata": {
        "id": "roDDutNA66xb"
      }
    },
    {
      "cell_type": "code",
      "source": [
        "# SVM\n",
        "print('The performance evaluation of SVM Model is below: ', '\\n')\n",
        "print('Accuracy Score: ', accuracy_score(y_test, y_pred_svm), '\\n')\n",
        "print('Precision Score: ', precision_score(y_test, y_pred_svm), '\\n')\n",
        "print('F1 Score: ', f1_score(y_test, y_pred_svm), '\\n')\n",
        "print('Recall Score: ', recall_score(y_test, y_pred_svm), '\\n')\n",
        "print('Confusion Matrix: ', '\\n', confusion_matrix(y_test, y_pred_svm), '\\n')\n",
        "print('Classification Report: ', '\\n', classification_report(y_test, y_pred_svm, target_names= ['Positive', 'Negative']), '\\n')"
      ],
      "metadata": {
        "id": "BovwaC5A65cV",
        "colab": {
          "base_uri": "https://localhost:8080/"
        },
        "outputId": "c07b803d-4496-4015-e3cf-46eaef7cbebe"
      },
      "execution_count": 109,
      "outputs": [
        {
          "output_type": "stream",
          "name": "stdout",
          "text": [
            "The performance evaluation of SVM Model is below:  \n",
            "\n",
            "Accuracy Score:  0.8673009514271407 \n",
            "\n",
            "Precision Score:  0.8474418604651163 \n",
            "\n",
            "F1 Score:  0.8730234786775275 \n",
            "\n",
            "Recall Score:  0.900197628458498 \n",
            "\n",
            "Confusion Matrix:  \n",
            " [[821 164]\n",
            " [101 911]] \n",
            "\n",
            "Classification Report:  \n",
            "               precision    recall  f1-score   support\n",
            "\n",
            "    Positive       0.89      0.83      0.86       985\n",
            "    Negative       0.85      0.90      0.87      1012\n",
            "\n",
            "    accuracy                           0.87      1997\n",
            "   macro avg       0.87      0.87      0.87      1997\n",
            "weighted avg       0.87      0.87      0.87      1997\n",
            " \n",
            "\n"
          ]
        }
      ]
    },
    {
      "cell_type": "markdown",
      "source": [
        "LightGBM"
      ],
      "metadata": {
        "id": "Nw7Ml69N7APT"
      }
    },
    {
      "cell_type": "code",
      "source": [
        "# LightGBM\n",
        "print('The performance evaluation of LightGBM Model is below: ', '\\n')\n",
        "print('Accuracy Score: ', accuracy_score(y_test, y_pred_lgbm), '\\n')\n",
        "print('Precision Score: ', precision_score(y_test, y_pred_lgbm), '\\n')\n",
        "print('F1 Score: ', f1_score(y_test, y_pred_lgbm), '\\n')\n",
        "print('Recall Score: ', recall_score(y_test, y_pred_lgbm), '\\n')\n",
        "print('Confusion Matrix: ', '\\n', confusion_matrix(y_test, y_pred_lgbm), '\\n')\n",
        "print('Classification Report: ', '\\n', classification_report(y_test, y_pred_lgbm, target_names= ['Positive', 'Negative']), '\\n')"
      ],
      "metadata": {
        "id": "HvDhz1Es69fs",
        "colab": {
          "base_uri": "https://localhost:8080/"
        },
        "outputId": "c06f8928-bb14-4016-dd86-10a9f45100f1"
      },
      "execution_count": 110,
      "outputs": [
        {
          "output_type": "stream",
          "name": "stdout",
          "text": [
            "The performance evaluation of LightGBM Model is below:  \n",
            "\n",
            "Accuracy Score:  0.8582874311467201 \n",
            "\n",
            "Precision Score:  0.8514946962391514 \n",
            "\n",
            "F1 Score:  0.8618838457784285 \n",
            "\n",
            "Recall Score:  0.8725296442687747 \n",
            "\n",
            "Confusion Matrix:  \n",
            " [[831 154]\n",
            " [129 883]] \n",
            "\n",
            "Classification Report:  \n",
            "               precision    recall  f1-score   support\n",
            "\n",
            "    Positive       0.87      0.84      0.85       985\n",
            "    Negative       0.85      0.87      0.86      1012\n",
            "\n",
            "    accuracy                           0.86      1997\n",
            "   macro avg       0.86      0.86      0.86      1997\n",
            "weighted avg       0.86      0.86      0.86      1997\n",
            " \n",
            "\n"
          ]
        }
      ]
    },
    {
      "cell_type": "markdown",
      "source": [
        "XGboost"
      ],
      "metadata": {
        "id": "0OEVqlwZ7Fvu"
      }
    },
    {
      "cell_type": "code",
      "source": [
        "# XGboost\n",
        "print('The performance evaluation of XGboost Model is below: ', '\\n')\n",
        "print('Accuracy Score: ', accuracy_score(y_test, y_pred_xgb), '\\n')\n",
        "print('Precision Score: ', precision_score(y_test, y_pred_xgb), '\\n')\n",
        "print('F1 Score: ', f1_score(y_test, y_pred_xgb), '\\n')\n",
        "print('Recall Score: ', recall_score(y_test, y_pred_xgb), '\\n')\n",
        "print('Confusion Matrix: ', '\\n', confusion_matrix(y_test, y_pred_xgb), '\\n')\n",
        "print('Classification Report: ', '\\n', classification_report(y_test, y_pred_xgb, target_names= ['Positive', 'Negative']), '\\n')"
      ],
      "metadata": {
        "id": "UWLxup3R7GfH",
        "colab": {
          "base_uri": "https://localhost:8080/"
        },
        "outputId": "b0e8ed06-0569-4270-c2cd-967a6ac73b57"
      },
      "execution_count": 111,
      "outputs": [
        {
          "output_type": "stream",
          "name": "stdout",
          "text": [
            "The performance evaluation of XGboost Model is below:  \n",
            "\n",
            "Accuracy Score:  0.8512769153730596 \n",
            "\n",
            "Precision Score:  0.840152235965747 \n",
            "\n",
            "F1 Score:  0.8560349006301503 \n",
            "\n",
            "Recall Score:  0.8725296442687747 \n",
            "\n",
            "Confusion Matrix:  \n",
            " [[817 168]\n",
            " [129 883]] \n",
            "\n",
            "Classification Report:  \n",
            "               precision    recall  f1-score   support\n",
            "\n",
            "    Positive       0.86      0.83      0.85       985\n",
            "    Negative       0.84      0.87      0.86      1012\n",
            "\n",
            "    accuracy                           0.85      1997\n",
            "   macro avg       0.85      0.85      0.85      1997\n",
            "weighted avg       0.85      0.85      0.85      1997\n",
            " \n",
            "\n"
          ]
        }
      ]
    },
    {
      "cell_type": "markdown",
      "source": [
        "Catboost"
      ],
      "metadata": {
        "id": "FjmW_FVS8pNC"
      }
    },
    {
      "cell_type": "code",
      "source": [
        "# Catboost\n",
        "print('The performance evaluation of Catboost Model is below: ', '\\n')\n",
        "print('Accuracy Score: ', accuracy_score(y_test, y_pred_cat), '\\n')\n",
        "print('Precision Score: ', precision_score(y_test, y_pred_cat), '\\n')\n",
        "print('F1 Score: ', f1_score(y_test, y_pred_cat), '\\n')\n",
        "print('Recall Score: ', recall_score(y_test, y_pred_cat), '\\n')\n",
        "print('Confusion Matrix: ', '\\n', confusion_matrix(y_test, y_pred_cat), '\\n')\n",
        "print('Classification Report: ', '\\n', classification_report(y_test, y_pred_cat, target_names= ['Positive', 'Negative']), '\\n')"
      ],
      "metadata": {
        "id": "qwNYiTRX88Kp",
        "colab": {
          "base_uri": "https://localhost:8080/"
        },
        "outputId": "a2ce3119-5dd8-4505-c65e-7aee7e0d6b01"
      },
      "execution_count": 112,
      "outputs": [
        {
          "output_type": "stream",
          "name": "stdout",
          "text": [
            "The performance evaluation of Catboost Model is below:  \n",
            "\n",
            "Accuracy Score:  0.8612919379068603 \n",
            "\n",
            "Precision Score:  0.845719661335842 \n",
            "\n",
            "F1 Score:  0.8665060240963854 \n",
            "\n",
            "Recall Score:  0.8883399209486166 \n",
            "\n",
            "Confusion Matrix:  \n",
            " [[821 164]\n",
            " [113 899]] \n",
            "\n",
            "Classification Report:  \n",
            "               precision    recall  f1-score   support\n",
            "\n",
            "    Positive       0.88      0.83      0.86       985\n",
            "    Negative       0.85      0.89      0.87      1012\n",
            "\n",
            "    accuracy                           0.86      1997\n",
            "   macro avg       0.86      0.86      0.86      1997\n",
            "weighted avg       0.86      0.86      0.86      1997\n",
            " \n",
            "\n"
          ]
        }
      ]
    },
    {
      "cell_type": "markdown",
      "source": [
        "."
      ],
      "metadata": {
        "id": "ahFgzba6_d2P"
      }
    },
    {
      "cell_type": "markdown",
      "source": [
        "Actual Output vs Predicted Output"
      ],
      "metadata": {
        "id": "onhQ3a3Vsrnm"
      }
    },
    {
      "cell_type": "code",
      "source": [
        "predictions = [y_pred_log, y_pred_nb, y_pred_nn, y_pred_dt, y_pred_rf, y_pred_kn, y_pred_svm, y_pred_lgbm, y_pred_xgb, y_pred_cat]\n",
        "classifiers_name = ['Logistic Regression', 'Naive Bayse', 'Neural Network', 'Decision Tree', 'Random Forest',\n",
        "               'KNeighbors', 'SVM', 'LightGBM', 'XGboost', 'Catboost']\n",
        "\n",
        "plt.figure(figsize= (22,22))\n",
        "for i, pred in enumerate(predictions):\n",
        "  plt.subplot(4,3,i+1)\n",
        "  sns.regplot(x= y_test, y= pred, color= 'purple')\n",
        "  plt.title(f'Actual vs Predicted Output of {classifiers_name[i]}')\n",
        "  plt.xlabel('Actual Test Output')\n",
        "  plt.ylabel('Predicted Test Output')"
      ],
      "metadata": {
        "colab": {
          "base_uri": "https://localhost:8080/",
          "height": 1000
        },
        "id": "f3X19dbR_ipD",
        "outputId": "a125fe71-1f1f-4865-f8bf-aef9461c59d7"
      },
      "execution_count": 113,
      "outputs": [
        {
          "output_type": "display_data",
          "data": {
            "text/plain": [
              "<Figure size 2200x2200 with 10 Axes>"
            ],
            "image/png": "[encoded data removed]"
          },
          "metadata": {}
        }
      ]
    },
    {
      "cell_type": "markdown",
      "source": [
        "."
      ],
      "metadata": {
        "id": "jAqJsS3Q7f63"
      }
    },
    {
      "cell_type": "markdown",
      "source": [
        "**Result**"
      ],
      "metadata": {
        "id": "y4fj974E7Cda"
      }
    },
    {
      "cell_type": "markdown",
      "source": [
        "Didn't get good accuracy and performance, reasons can be:\n",
        "\n",
        "* Less amount of data taken for model training\n",
        "* We trained our model from scretch instead of using pretrained model."
      ],
      "metadata": {
        "id": "WZR_50Ev6zFT"
      }
    }
  ]
}